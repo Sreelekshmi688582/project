{
  "nbformat": 4,
  "nbformat_minor": 0,
  "metadata": {
    "colab": {
      "name": "Untitled7.ipynb",
      "provenance": [],
      "authorship_tag": "ABX9TyPnIQT0dUnd7N8EZ3HiJifs",
      "include_colab_link": true
    },
    "kernelspec": {
      "name": "python3",
      "display_name": "Python 3"
    },
    "language_info": {
      "name": "python"
    }
  },
  "cells": [
    {
      "cell_type": "markdown",
      "metadata": {
        "id": "view-in-github",
        "colab_type": "text"
      },
      "source": [
        "<a href=\"https://colab.research.google.com/github/Sreelekshmi688582/project/blob/main/Emotion%20analysis%20from%20song%20lyrics%20.ipynb\" target=\"_parent\"><img src=\"https://colab.research.google.com/assets/colab-badge.svg\" alt=\"Open In Colab\"/></a>"
      ]
    },
    {
      "cell_type": "code",
      "source": [
        "# import required dependencies\n",
        "import pandas as pd\n",
        "import numpy as np\n",
        "import matplotlib.pyplot as plt\n",
        "%matplotlib inline\n",
        "\n",
        "from pathlib import Path\n",
        "from PIL import Image\n",
        "\n",
        "import nltk\n",
        "from nltk.sentiment.vader import SentimentIntensityAnalyzer\n",
        "\n",
        "import pandas_bokeh\n",
        "from wordcloud import WordCloud, STOPWORDS, ImageColorGenerator"
      ],
      "metadata": {
        "id": "EnjBTAXv4JNa"
      },
      "execution_count": null,
      "outputs": []
    },
    {
      "cell_type": "code",
      "source": [
        "pd.set_option('plotting.backend', 'pandas_bokeh')\n",
        "pd.set_option('display.max_colwidth', 30)"
      ],
      "metadata": {
        "id": "-AOJh-s34z_G"
      },
      "execution_count": null,
      "outputs": []
    },
    {
      "cell_type": "code",
      "source": [
        "pip install pandas-bokeh"
      ],
      "metadata": {
        "colab": {
          "base_uri": "https://localhost:8080/"
        },
        "id": "UTZe6jIo4nYB",
        "outputId": "586c4601-7471-4e95-8243-0b4fe57de1b2"
      },
      "execution_count": null,
      "outputs": [
        {
          "output_type": "stream",
          "name": "stdout",
          "text": [
            "Collecting pandas-bokeh\n",
            "  Downloading pandas_bokeh-0.5.5-py2.py3-none-any.whl (29 kB)\n",
            "Requirement already satisfied: bokeh>=2.0 in /usr/local/lib/python3.7/dist-packages (from pandas-bokeh) (2.3.3)\n",
            "Requirement already satisfied: pandas>=0.22.0 in /usr/local/lib/python3.7/dist-packages (from pandas-bokeh) (1.1.5)\n",
            "Requirement already satisfied: PyYAML>=3.10 in /usr/local/lib/python3.7/dist-packages (from bokeh>=2.0->pandas-bokeh) (3.13)\n",
            "Requirement already satisfied: pillow>=7.1.0 in /usr/local/lib/python3.7/dist-packages (from bokeh>=2.0->pandas-bokeh) (7.1.2)\n",
            "Requirement already satisfied: packaging>=16.8 in /usr/local/lib/python3.7/dist-packages (from bokeh>=2.0->pandas-bokeh) (21.3)\n",
            "Requirement already satisfied: tornado>=5.1 in /usr/local/lib/python3.7/dist-packages (from bokeh>=2.0->pandas-bokeh) (5.1.1)\n",
            "Requirement already satisfied: typing-extensions>=3.7.4 in /usr/local/lib/python3.7/dist-packages (from bokeh>=2.0->pandas-bokeh) (3.10.0.2)\n",
            "Requirement already satisfied: Jinja2>=2.9 in /usr/local/lib/python3.7/dist-packages (from bokeh>=2.0->pandas-bokeh) (2.11.3)\n",
            "Requirement already satisfied: numpy>=1.11.3 in /usr/local/lib/python3.7/dist-packages (from bokeh>=2.0->pandas-bokeh) (1.19.5)\n",
            "Requirement already satisfied: python-dateutil>=2.1 in /usr/local/lib/python3.7/dist-packages (from bokeh>=2.0->pandas-bokeh) (2.8.2)\n",
            "Requirement already satisfied: MarkupSafe>=0.23 in /usr/local/lib/python3.7/dist-packages (from Jinja2>=2.9->bokeh>=2.0->pandas-bokeh) (2.0.1)\n",
            "Requirement already satisfied: pyparsing!=3.0.5,>=2.0.2 in /usr/local/lib/python3.7/dist-packages (from packaging>=16.8->bokeh>=2.0->pandas-bokeh) (3.0.6)\n",
            "Requirement already satisfied: pytz>=2017.2 in /usr/local/lib/python3.7/dist-packages (from pandas>=0.22.0->pandas-bokeh) (2018.9)\n",
            "Requirement already satisfied: six>=1.5 in /usr/local/lib/python3.7/dist-packages (from python-dateutil>=2.1->bokeh>=2.0->pandas-bokeh) (1.15.0)\n",
            "Installing collected packages: pandas-bokeh\n",
            "Successfully installed pandas-bokeh-0.5.5\n"
          ]
        }
      ]
    },
    {
      "cell_type": "code",
      "source": [
        "pandas_bokeh.output_notebook()"
      ],
      "metadata": {
        "id": "kStRpWA847ZK"
      },
      "execution_count": null,
      "outputs": []
    },
    {
      "cell_type": "code",
      "source": [
        "lyrics_df = pd.read_csv('taylor_swift_lyrics.csv',\n",
        "                        encoding='Latin1')"
      ],
      "metadata": {
        "id": "1lMxLZil5A-o"
      },
      "execution_count": null,
      "outputs": []
    },
    {
      "cell_type": "code",
      "source": [
        "lyrics_df.head()"
      ],
      "metadata": {
        "colab": {
          "base_uri": "https://localhost:8080/",
          "height": 206
        },
        "id": "pcqFg4UZ5Gnu",
        "outputId": "16b3c0c9-6491-46e7-eebe-3291d6de19bb"
      },
      "execution_count": null,
      "outputs": [
        {
          "output_type": "execute_result",
          "data": {
            "text/html": [
              "\n",
              "  <div id=\"df-4b5675dd-70e0-48e2-b98d-d98f4193959b\">\n",
              "    <div class=\"colab-df-container\">\n",
              "      <div>\n",
              "<style scoped>\n",
              "    .dataframe tbody tr th:only-of-type {\n",
              "        vertical-align: middle;\n",
              "    }\n",
              "\n",
              "    .dataframe tbody tr th {\n",
              "        vertical-align: top;\n",
              "    }\n",
              "\n",
              "    .dataframe thead th {\n",
              "        text-align: right;\n",
              "    }\n",
              "</style>\n",
              "<table border=\"1\" class=\"dataframe\">\n",
              "  <thead>\n",
              "    <tr style=\"text-align: right;\">\n",
              "      <th></th>\n",
              "      <th>artist</th>\n",
              "      <th>album</th>\n",
              "      <th>track_title</th>\n",
              "      <th>track_n</th>\n",
              "      <th>lyric</th>\n",
              "      <th>line</th>\n",
              "      <th>year</th>\n",
              "    </tr>\n",
              "  </thead>\n",
              "  <tbody>\n",
              "    <tr>\n",
              "      <th>0</th>\n",
              "      <td>Taylor Swift</td>\n",
              "      <td>Taylor Swift</td>\n",
              "      <td>Tim McGraw</td>\n",
              "      <td>1</td>\n",
              "      <td>He said the way my blue ey...</td>\n",
              "      <td>1</td>\n",
              "      <td>2006</td>\n",
              "    </tr>\n",
              "    <tr>\n",
              "      <th>1</th>\n",
              "      <td>Taylor Swift</td>\n",
              "      <td>Taylor Swift</td>\n",
              "      <td>Tim McGraw</td>\n",
              "      <td>1</td>\n",
              "      <td>Put those Georgia stars to...</td>\n",
              "      <td>2</td>\n",
              "      <td>2006</td>\n",
              "    </tr>\n",
              "    <tr>\n",
              "      <th>2</th>\n",
              "      <td>Taylor Swift</td>\n",
              "      <td>Taylor Swift</td>\n",
              "      <td>Tim McGraw</td>\n",
              "      <td>1</td>\n",
              "      <td>I said, \"That's a lie\"</td>\n",
              "      <td>3</td>\n",
              "      <td>2006</td>\n",
              "    </tr>\n",
              "    <tr>\n",
              "      <th>3</th>\n",
              "      <td>Taylor Swift</td>\n",
              "      <td>Taylor Swift</td>\n",
              "      <td>Tim McGraw</td>\n",
              "      <td>1</td>\n",
              "      <td>Just a boy in a Chevy truck</td>\n",
              "      <td>4</td>\n",
              "      <td>2006</td>\n",
              "    </tr>\n",
              "    <tr>\n",
              "      <th>4</th>\n",
              "      <td>Taylor Swift</td>\n",
              "      <td>Taylor Swift</td>\n",
              "      <td>Tim McGraw</td>\n",
              "      <td>1</td>\n",
              "      <td>That had a tendency of get...</td>\n",
              "      <td>5</td>\n",
              "      <td>2006</td>\n",
              "    </tr>\n",
              "  </tbody>\n",
              "</table>\n",
              "</div>\n",
              "      <button class=\"colab-df-convert\" onclick=\"convertToInteractive('df-4b5675dd-70e0-48e2-b98d-d98f4193959b')\"\n",
              "              title=\"Convert this dataframe to an interactive table.\"\n",
              "              style=\"display:none;\">\n",
              "        \n",
              "  <svg xmlns=\"http://www.w3.org/2000/svg\" height=\"24px\"viewBox=\"0 0 24 24\"\n",
              "       width=\"24px\">\n",
              "    <path d=\"M0 0h24v24H0V0z\" fill=\"none\"/>\n",
              "    <path d=\"M18.56 5.44l.94 2.06.94-2.06 2.06-.94-2.06-.94-.94-2.06-.94 2.06-2.06.94zm-11 1L8.5 8.5l.94-2.06 2.06-.94-2.06-.94L8.5 2.5l-.94 2.06-2.06.94zm10 10l.94 2.06.94-2.06 2.06-.94-2.06-.94-.94-2.06-.94 2.06-2.06.94z\"/><path d=\"M17.41 7.96l-1.37-1.37c-.4-.4-.92-.59-1.43-.59-.52 0-1.04.2-1.43.59L10.3 9.45l-7.72 7.72c-.78.78-.78 2.05 0 2.83L4 21.41c.39.39.9.59 1.41.59.51 0 1.02-.2 1.41-.59l7.78-7.78 2.81-2.81c.8-.78.8-2.07 0-2.86zM5.41 20L4 18.59l7.72-7.72 1.47 1.35L5.41 20z\"/>\n",
              "  </svg>\n",
              "      </button>\n",
              "      \n",
              "  <style>\n",
              "    .colab-df-container {\n",
              "      display:flex;\n",
              "      flex-wrap:wrap;\n",
              "      gap: 12px;\n",
              "    }\n",
              "\n",
              "    .colab-df-convert {\n",
              "      background-color: #E8F0FE;\n",
              "      border: none;\n",
              "      border-radius: 50%;\n",
              "      cursor: pointer;\n",
              "      display: none;\n",
              "      fill: #1967D2;\n",
              "      height: 32px;\n",
              "      padding: 0 0 0 0;\n",
              "      width: 32px;\n",
              "    }\n",
              "\n",
              "    .colab-df-convert:hover {\n",
              "      background-color: #E2EBFA;\n",
              "      box-shadow: 0px 1px 2px rgba(60, 64, 67, 0.3), 0px 1px 3px 1px rgba(60, 64, 67, 0.15);\n",
              "      fill: #174EA6;\n",
              "    }\n",
              "\n",
              "    [theme=dark] .colab-df-convert {\n",
              "      background-color: #3B4455;\n",
              "      fill: #D2E3FC;\n",
              "    }\n",
              "\n",
              "    [theme=dark] .colab-df-convert:hover {\n",
              "      background-color: #434B5C;\n",
              "      box-shadow: 0px 1px 3px 1px rgba(0, 0, 0, 0.15);\n",
              "      filter: drop-shadow(0px 1px 2px rgba(0, 0, 0, 0.3));\n",
              "      fill: #FFFFFF;\n",
              "    }\n",
              "  </style>\n",
              "\n",
              "      <script>\n",
              "        const buttonEl =\n",
              "          document.querySelector('#df-4b5675dd-70e0-48e2-b98d-d98f4193959b button.colab-df-convert');\n",
              "        buttonEl.style.display =\n",
              "          google.colab.kernel.accessAllowed ? 'block' : 'none';\n",
              "\n",
              "        async function convertToInteractive(key) {\n",
              "          const element = document.querySelector('#df-4b5675dd-70e0-48e2-b98d-d98f4193959b');\n",
              "          const dataTable =\n",
              "            await google.colab.kernel.invokeFunction('convertToInteractive',\n",
              "                                                     [key], {});\n",
              "          if (!dataTable) return;\n",
              "\n",
              "          const docLinkHtml = 'Like what you see? Visit the ' +\n",
              "            '<a target=\"_blank\" href=https://colab.research.google.com/notebooks/data_table.ipynb>data table notebook</a>'\n",
              "            + ' to learn more about interactive tables.';\n",
              "          element.innerHTML = '';\n",
              "          dataTable['output_type'] = 'display_data';\n",
              "          await google.colab.output.renderOutput(dataTable, element);\n",
              "          const docLink = document.createElement('div');\n",
              "          docLink.innerHTML = docLinkHtml;\n",
              "          element.appendChild(docLink);\n",
              "        }\n",
              "      </script>\n",
              "    </div>\n",
              "  </div>\n",
              "  "
            ],
            "text/plain": [
              "         artist         album  ... line  year\n",
              "0  Taylor Swift  Taylor Swift  ...    1  2006\n",
              "1  Taylor Swift  Taylor Swift  ...    2  2006\n",
              "2  Taylor Swift  Taylor Swift  ...    3  2006\n",
              "3  Taylor Swift  Taylor Swift  ...    4  2006\n",
              "4  Taylor Swift  Taylor Swift  ...    5  2006\n",
              "\n",
              "[5 rows x 7 columns]"
            ]
          },
          "metadata": {},
          "execution_count": 8
        }
      ]
    },
    {
      "cell_type": "code",
      "source": [
        "lyrics_df.shape"
      ],
      "metadata": {
        "colab": {
          "base_uri": "https://localhost:8080/"
        },
        "id": "DROxITgJ5Mw0",
        "outputId": "3c39160b-6b90-4442-9ec8-dddba6dd6c58"
      },
      "execution_count": null,
      "outputs": [
        {
          "output_type": "execute_result",
          "data": {
            "text/plain": [
              "(4862, 7)"
            ]
          },
          "metadata": {},
          "execution_count": 9
        }
      ]
    },
    {
      "cell_type": "code",
      "source": [
        "lyrics_df.dtypes"
      ],
      "metadata": {
        "colab": {
          "base_uri": "https://localhost:8080/"
        },
        "id": "na4UnTqz5mLP",
        "outputId": "291651cb-1c90-447d-984c-5b2d71daf3e9"
      },
      "execution_count": null,
      "outputs": [
        {
          "output_type": "execute_result",
          "data": {
            "text/plain": [
              "artist         object\n",
              "album          object\n",
              "track_title    object\n",
              "track_n         int64\n",
              "lyric          object\n",
              "line            int64\n",
              "year            int64\n",
              "dtype: object"
            ]
          },
          "metadata": {},
          "execution_count": 10
        }
      ]
    },
    {
      "cell_type": "code",
      "source": [
        "lyrics_df.info()"
      ],
      "metadata": {
        "colab": {
          "base_uri": "https://localhost:8080/"
        },
        "id": "UMF5ljIs5ry9",
        "outputId": "98060e14-b603-42f7-f54d-5c74fe35d99f"
      },
      "execution_count": null,
      "outputs": [
        {
          "output_type": "stream",
          "name": "stdout",
          "text": [
            "<class 'pandas.core.frame.DataFrame'>\n",
            "RangeIndex: 4862 entries, 0 to 4861\n",
            "Data columns (total 7 columns):\n",
            " #   Column       Non-Null Count  Dtype \n",
            "---  ------       --------------  ----- \n",
            " 0   artist       4862 non-null   object\n",
            " 1   album        4862 non-null   object\n",
            " 2   track_title  4862 non-null   object\n",
            " 3   track_n      4862 non-null   int64 \n",
            " 4   lyric        4862 non-null   object\n",
            " 5   line         4862 non-null   int64 \n",
            " 6   year         4862 non-null   int64 \n",
            "dtypes: int64(3), object(4)\n",
            "memory usage: 266.0+ KB\n"
          ]
        }
      ]
    },
    {
      "cell_type": "code",
      "source": [
        "# typecasting\n",
        "for col in ['artist', 'album', 'track_title']:\n",
        "    lyrics_df[col] = lyrics_df[col].astype('category')"
      ],
      "metadata": {
        "id": "IpHTLa405yMM"
      },
      "execution_count": null,
      "outputs": []
    },
    {
      "cell_type": "code",
      "source": [
        "# create album catalog\n",
        "full_catalog = {}\n",
        "\n",
        "for album in lyrics_df['album'].unique():\n",
        "    full_catalog[album] = []\n",
        "    for track_title in lyrics_df[lyrics_df['album'] == album]['track_title'].unique():\n",
        "        full_catalog[album].append(track_title)"
      ],
      "metadata": {
        "id": "lt5NYn8t54VA"
      },
      "execution_count": null,
      "outputs": []
    },
    {
      "cell_type": "code",
      "source": [
        "full_catalog"
      ],
      "metadata": {
        "colab": {
          "base_uri": "https://localhost:8080/"
        },
        "id": "iH7cMiH_58_d",
        "outputId": "91749bcd-200d-4582-98e6-fc365aba1db3"
      },
      "execution_count": null,
      "outputs": [
        {
          "output_type": "execute_result",
          "data": {
            "text/plain": [
              "{'1989': ['Welcome to New York',\n",
              "  'Blank Space',\n",
              "  'Style',\n",
              "  'Out of the Woods',\n",
              "  'All You Had to Do Was Stay',\n",
              "  'Shake It Off',\n",
              "  'I Wish You Would',\n",
              "  'Bad Blood',\n",
              "  'Wildest Dreams',\n",
              "  'How You Get The Girl',\n",
              "  'This Love',\n",
              "  'I Know Places',\n",
              "  'Clean',\n",
              "  'Wonderland',\n",
              "  'You Are in Love',\n",
              "  'New Romantics'],\n",
              " 'Fearless': ['Fearless',\n",
              "  'Fifteen',\n",
              "  'Love Story',\n",
              "  'Hey Stephen',\n",
              "  'White Horse',\n",
              "  'You Belong With Me',\n",
              "  'Breathe (Ft.\\xa0Colbie\\xa0Caillat)',\n",
              "  'Tell Me Why',\n",
              "  \"You're Not Sorry\",\n",
              "  'The Way I Loved You',\n",
              "  'Forever & Always',\n",
              "  'The Best Day',\n",
              "  'Change'],\n",
              " 'Red': ['State of Grace',\n",
              "  'Red',\n",
              "  'Treacherous',\n",
              "  'I Knew You Were Trouble',\n",
              "  'All Too Well',\n",
              "  '22',\n",
              "  'I Almost Do',\n",
              "  'We Are Never Ever Getting Back Together',\n",
              "  'Stay Stay Stay',\n",
              "  'The Last Time (Ft.\\xa0Gary\\xa0Lightbody)',\n",
              "  'Holy Ground',\n",
              "  'Sad Beautiful Tragic',\n",
              "  'The Lucky One',\n",
              "  'Everything Has Changed (Ft.\\xa0Ed\\xa0Sheeran)',\n",
              "  'Starlight',\n",
              "  'Begin Again',\n",
              "  'The Moment I Knew',\n",
              "  'Come Back... Be Here',\n",
              "  'Girl at Home'],\n",
              " 'Speak Now': ['Mine',\n",
              "  'Sparks Fly',\n",
              "  'Back To December',\n",
              "  'Speak Now',\n",
              "  'Dear John',\n",
              "  'Mean',\n",
              "  'The Story of Us',\n",
              "  'Never Grow Up',\n",
              "  'Enchanted',\n",
              "  'Better Than Revenge',\n",
              "  'Innocent',\n",
              "  'Haunted',\n",
              "  'Last Kiss',\n",
              "  'Long Live',\n",
              "  'Ours',\n",
              "  'If This Was a Movie',\n",
              "  'Superman'],\n",
              " 'Taylor Swift': ['Tim McGraw',\n",
              "  'Picture To Burn',\n",
              "  'Teardrops On My Guitar',\n",
              "  'A Place In This World',\n",
              "  'Cold as You',\n",
              "  'The Outside',\n",
              "  'Tied Together With A Smile',\n",
              "  'Stay Beautiful',\n",
              "  \"Should've Said No\",\n",
              "  \"Mary's Song (Oh My My My)\",\n",
              "  'Our Song',\n",
              "  \"I'm Only Me When I'm With You\",\n",
              "  'Invisible',\n",
              "  'A Perfectly Good Heart'],\n",
              " 'reputation': ['...Ready for It?',\n",
              "  'End Game (Ft.\\xa0Ed\\xa0Sheeran & Future)',\n",
              "  'I Did Something Bad',\n",
              "  \"Don't Blame Me\",\n",
              "  'Delicate',\n",
              "  'Look What You Made Me Do',\n",
              "  'So It Goes...',\n",
              "  'Gorgeous',\n",
              "  'Getaway Car',\n",
              "  'King of My Heart',\n",
              "  'Dancing With Our Hands Tied',\n",
              "  'Dress',\n",
              "  \"This Is Why We Can't Have Nice Things\",\n",
              "  'Call It What You Want',\n",
              "  \"New Year's Day\"]}"
            ]
          },
          "metadata": {},
          "execution_count": 14
        }
      ]
    },
    {
      "cell_type": "code",
      "source": [
        "# see tracks for select album\n",
        "full_catalog['1989']"
      ],
      "metadata": {
        "colab": {
          "base_uri": "https://localhost:8080/"
        },
        "id": "e7TX3olr6Coh",
        "outputId": "c830f34a-5086-403f-916b-597e4fa06f8e"
      },
      "execution_count": null,
      "outputs": [
        {
          "output_type": "execute_result",
          "data": {
            "text/plain": [
              "['Welcome to New York',\n",
              " 'Blank Space',\n",
              " 'Style',\n",
              " 'Out of the Woods',\n",
              " 'All You Had to Do Was Stay',\n",
              " 'Shake It Off',\n",
              " 'I Wish You Would',\n",
              " 'Bad Blood',\n",
              " 'Wildest Dreams',\n",
              " 'How You Get The Girl',\n",
              " 'This Love',\n",
              " 'I Know Places',\n",
              " 'Clean',\n",
              " 'Wonderland',\n",
              " 'You Are in Love',\n",
              " 'New Romantics']"
            ]
          },
          "metadata": {},
          "execution_count": 15
        }
      ]
    },
    {
      "cell_type": "code",
      "source": [
        "# define function to get song lyrics\n",
        "def get_song_lyrics(track_title, df=lyrics_df):\n",
        "    full_song = ' '.join(line for line in df[df['track_title'] == track_title]['lyric'])\n",
        "    return full_song"
      ],
      "metadata": {
        "id": "oTW_aRbi6KKJ"
      },
      "execution_count": null,
      "outputs": []
    },
    {
      "cell_type": "code",
      "source": [
        "get_song_lyrics('I Know Places')"
      ],
      "metadata": {
        "colab": {
          "base_uri": "https://localhost:8080/",
          "height": 140
        },
        "id": "qoW2XTu66RiI",
        "outputId": "cdf1c1f8-3439-4594-e93e-87cfb8a4ce79"
      },
      "execution_count": null,
      "outputs": [
        {
          "output_type": "execute_result",
          "data": {
            "application/vnd.google.colaboratory.intrinsic+json": {
              "type": "string"
            },
            "text/plain": [
              "\"You stand with your hand on my waistline It's a scene and we're out here in plain sight I can hear them whisper as we pass by It's a bad sign (bad sign) Something happens when everybody finds out See the vultures circling dark clouds Love's a fragile little flame It could burn out, it could burn out 'Cause they got the cages, they got the boxes And guns They are the hunters, we are the foxes And we run Baby, I know places we won't be found And they'll be chasing their tails trying to track us down 'Cause I, I know places we can hide I know places, I know places Lights flash and we'll run for the fences Let them say what they want, we won't hear it Loose lips sink ships all the damn time Not this time Just grab my hand and don't ever drop it My love They are the hunters, we are the foxes And we run Baby, I know places we won't be found And they'll be chasing their tails trying to track us down 'Cause I, I know places we can hide I know places, I know places They are the hunters, we are the foxes And we run Just grab my hand and don't ever drop it My love Baby, I know places we won't be found And they'll be chasing their tails trying to track us down 'Cause I, I know places we can hide I know places, I know places They take their shots, we're bulletproof (I know places) And you know for me, it's always you (I know places) In the dead of night, your eyes so green (I know places) And I know for you, it's always me (I know places)\""
            ]
          },
          "metadata": {},
          "execution_count": 17
        }
      ]
    },
    {
      "cell_type": "code",
      "source": [
        "# define function to create wordcloud for selected song\n",
        "def create_song_wordcloud(track_title):\n",
        "    \n",
        "    song_lyrics = get_song_lyrics(track_title)\n",
        "    \n",
        "    # create mask array of heart shape\n",
        "    mask_path = Path('heart_shape.png')\n",
        "    heart_mask = np.array(Image.open(mask_path))\n",
        "    heart_color = ImageColorGenerator(heart_mask.copy())\n",
        "    \n",
        "    # draw wordcloud\n",
        "    wc = WordCloud(max_words=1000,\n",
        "               background_color='black',\n",
        "               mask=heart_mask,\n",
        "               max_font_size=100,\n",
        "               relative_scaling=0)\n",
        "    wc.generate(song_lyrics)\n",
        "    wc.recolor(color_func=heart_color)\n",
        "    plt.figure(figsize=(20, 10))\n",
        "    plt.axis('off')\n",
        "    plt.imshow(wc, interpolation=\"bilinear\")"
      ],
      "metadata": {
        "id": "mkG_Eeo76XhZ"
      },
      "execution_count": null,
      "outputs": []
    },
    {
      "cell_type": "code",
      "source": [
        "create_song_wordcloud('Red')"
      ],
      "metadata": {
        "colab": {
          "base_uri": "https://localhost:8080/",
          "height": 310
        },
        "id": "M_eDWqvb6hMB",
        "outputId": "f82205f1-a9bb-44a4-b545-861d5fa3a545"
      },
      "execution_count": null,
      "outputs": [
        {
          "output_type": "error",
          "ename": "FileNotFoundError",
          "evalue": "ignored",
          "traceback": [
            "\u001b[0;31m---------------------------------------------------------------------------\u001b[0m",
            "\u001b[0;31mFileNotFoundError\u001b[0m                         Traceback (most recent call last)",
            "\u001b[0;32m<ipython-input-19-db0dbdf21aa7>\u001b[0m in \u001b[0;36m<module>\u001b[0;34m()\u001b[0m\n\u001b[0;32m----> 1\u001b[0;31m \u001b[0mcreate_song_wordcloud\u001b[0m\u001b[0;34m(\u001b[0m\u001b[0;34m'Red'\u001b[0m\u001b[0;34m)\u001b[0m\u001b[0;34m\u001b[0m\u001b[0;34m\u001b[0m\u001b[0m\n\u001b[0m",
            "\u001b[0;32m<ipython-input-18-cd32ffd1e3b0>\u001b[0m in \u001b[0;36mcreate_song_wordcloud\u001b[0;34m(track_title)\u001b[0m\n\u001b[1;32m      6\u001b[0m     \u001b[0;31m# create mask array of heart shape\u001b[0m\u001b[0;34m\u001b[0m\u001b[0;34m\u001b[0m\u001b[0;34m\u001b[0m\u001b[0m\n\u001b[1;32m      7\u001b[0m     \u001b[0mmask_path\u001b[0m \u001b[0;34m=\u001b[0m \u001b[0mPath\u001b[0m\u001b[0;34m(\u001b[0m\u001b[0;34m'heart_shape.png'\u001b[0m\u001b[0;34m)\u001b[0m\u001b[0;34m\u001b[0m\u001b[0;34m\u001b[0m\u001b[0m\n\u001b[0;32m----> 8\u001b[0;31m     \u001b[0mheart_mask\u001b[0m \u001b[0;34m=\u001b[0m \u001b[0mnp\u001b[0m\u001b[0;34m.\u001b[0m\u001b[0marray\u001b[0m\u001b[0;34m(\u001b[0m\u001b[0mImage\u001b[0m\u001b[0;34m.\u001b[0m\u001b[0mopen\u001b[0m\u001b[0;34m(\u001b[0m\u001b[0mmask_path\u001b[0m\u001b[0;34m)\u001b[0m\u001b[0;34m)\u001b[0m\u001b[0;34m\u001b[0m\u001b[0;34m\u001b[0m\u001b[0m\n\u001b[0m\u001b[1;32m      9\u001b[0m     \u001b[0mheart_color\u001b[0m \u001b[0;34m=\u001b[0m \u001b[0mImageColorGenerator\u001b[0m\u001b[0;34m(\u001b[0m\u001b[0mheart_mask\u001b[0m\u001b[0;34m.\u001b[0m\u001b[0mcopy\u001b[0m\u001b[0;34m(\u001b[0m\u001b[0;34m)\u001b[0m\u001b[0;34m)\u001b[0m\u001b[0;34m\u001b[0m\u001b[0;34m\u001b[0m\u001b[0m\n\u001b[1;32m     10\u001b[0m \u001b[0;34m\u001b[0m\u001b[0m\n",
            "\u001b[0;32m/usr/local/lib/python3.7/dist-packages/PIL/Image.py\u001b[0m in \u001b[0;36mopen\u001b[0;34m(fp, mode)\u001b[0m\n\u001b[1;32m   2841\u001b[0m \u001b[0;34m\u001b[0m\u001b[0m\n\u001b[1;32m   2842\u001b[0m     \u001b[0;32mif\u001b[0m \u001b[0mfilename\u001b[0m\u001b[0;34m:\u001b[0m\u001b[0;34m\u001b[0m\u001b[0;34m\u001b[0m\u001b[0m\n\u001b[0;32m-> 2843\u001b[0;31m         \u001b[0mfp\u001b[0m \u001b[0;34m=\u001b[0m \u001b[0mbuiltins\u001b[0m\u001b[0;34m.\u001b[0m\u001b[0mopen\u001b[0m\u001b[0;34m(\u001b[0m\u001b[0mfilename\u001b[0m\u001b[0;34m,\u001b[0m \u001b[0;34m\"rb\"\u001b[0m\u001b[0;34m)\u001b[0m\u001b[0;34m\u001b[0m\u001b[0;34m\u001b[0m\u001b[0m\n\u001b[0m\u001b[1;32m   2844\u001b[0m         \u001b[0mexclusive_fp\u001b[0m \u001b[0;34m=\u001b[0m \u001b[0;32mTrue\u001b[0m\u001b[0;34m\u001b[0m\u001b[0;34m\u001b[0m\u001b[0m\n\u001b[1;32m   2845\u001b[0m \u001b[0;34m\u001b[0m\u001b[0m\n",
            "\u001b[0;31mFileNotFoundError\u001b[0m: [Errno 2] No such file or directory: '/content/heart_shape.png'"
          ]
        }
      ]
    },
    {
      "cell_type": "code",
      "source": [
        "# define function to get pos tags for selected song\n",
        "def get_pos_tags(track_title):\n",
        "    \n",
        "    song_lyrics = get_song_lyrics(track_title)\n",
        "    tokens = nltk.word_tokenize(song_lyrics)\n",
        "    pos_tags = nltk.pos_tag(tokens)\n",
        "    return pos_tags"
      ],
      "metadata": {
        "id": "tObzIOYT6pDL"
      },
      "execution_count": null,
      "outputs": []
    },
    {
      "cell_type": "code",
      "source": [
        "full_catalog['1989']"
      ],
      "metadata": {
        "colab": {
          "base_uri": "https://localhost:8080/"
        },
        "id": "GyRas5Ue6uXv",
        "outputId": "d4819d14-593e-442b-91d1-2304c7a25a67"
      },
      "execution_count": null,
      "outputs": [
        {
          "output_type": "execute_result",
          "data": {
            "text/plain": [
              "['Welcome to New York',\n",
              " 'Blank Space',\n",
              " 'Style',\n",
              " 'Out of the Woods',\n",
              " 'All You Had to Do Was Stay',\n",
              " 'Shake It Off',\n",
              " 'I Wish You Would',\n",
              " 'Bad Blood',\n",
              " 'Wildest Dreams',\n",
              " 'How You Get The Girl',\n",
              " 'This Love',\n",
              " 'I Know Places',\n",
              " 'Clean',\n",
              " 'Wonderland',\n",
              " 'You Are in Love',\n",
              " 'New Romantics']"
            ]
          },
          "metadata": {},
          "execution_count": 21
        }
      ]
    },
    {
      "cell_type": "code",
      "source": [
        "get_pos_tags('Shake It Off')[:10]"
      ],
      "metadata": {
        "colab": {
          "base_uri": "https://localhost:8080/"
        },
        "id": "JmRV6qTX6zAr",
        "outputId": "10183f70-76e7-41e4-8ac5-8519eb602c04"
      },
      "execution_count": null,
      "outputs": [
        {
          "output_type": "execute_result",
          "data": {
            "text/plain": [
              "[('I', 'PRP'),\n",
              " ('stay', 'VBP'),\n",
              " ('out', 'RB'),\n",
              " ('too', 'RB'),\n",
              " ('late', 'JJ'),\n",
              " ('Got', 'NNP'),\n",
              " ('nothing', 'NN'),\n",
              " ('in', 'IN'),\n",
              " ('my', 'PRP$'),\n",
              " ('brain', 'NN')]"
            ]
          },
          "metadata": {},
          "execution_count": 49
        }
      ]
    },
    {
      "cell_type": "code",
      "source": [
        "import nltk\n",
        "nltk.download('averaged_perceptron_tagger')"
      ],
      "metadata": {
        "colab": {
          "base_uri": "https://localhost:8080/"
        },
        "id": "9HYZquzC-cn1",
        "outputId": "44f98532-1ead-4ab2-d01f-a513920b26a4"
      },
      "execution_count": null,
      "outputs": [
        {
          "output_type": "stream",
          "name": "stdout",
          "text": [
            "[nltk_data] Downloading package averaged_perceptron_tagger to\n",
            "[nltk_data]     /root/nltk_data...\n",
            "[nltk_data]   Unzipping taggers/averaged_perceptron_tagger.zip.\n"
          ]
        },
        {
          "output_type": "execute_result",
          "data": {
            "text/plain": [
              "True"
            ]
          },
          "metadata": {},
          "execution_count": 48
        }
      ]
    },
    {
      "cell_type": "code",
      "source": [
        "# find lemmas and stems of tokens\n",
        "from nltk.stem.porter import PorterStemmer\n",
        "from nltk.stem.wordnet import WordNetLemmatizer\n",
        "\n",
        "def find_stem_lyrics(track_title):\n",
        "    \n",
        "    song_lyrics = get_song_lyrics(track_title)\n",
        "    tokens = nltk.word_tokenize(song_lyrics)\n",
        "    \n",
        "    # initialize stemmer\n",
        "    stemmer = PorterStemmer() \n",
        "    stemmed_tokens = list(set([stemmer.stem(token) for token in tokens]))\n",
        "    return stemmed_tokens\n",
        "\n",
        "\n",
        "def find_lemmas_lyrics(track_title):\n",
        "    \n",
        "    song_lyrics = get_song_lyrics(track_title)\n",
        "    tokens = nltk.word_tokenize(song_lyrics)\n",
        "    \n",
        "    # initialize Lemmatizer\n",
        "    lem = WordNetLemmatizer()\n",
        "    lemmas_tokens = list(set([lem.lemmatize(token) for token in tokens]))\n",
        "    return lemmas_tokens"
      ],
      "metadata": {
        "id": "ZDbh_2RU7WCF"
      },
      "execution_count": null,
      "outputs": []
    },
    {
      "cell_type": "code",
      "source": [
        "import nltk\n",
        "nltk.download('punkt')"
      ],
      "metadata": {
        "colab": {
          "base_uri": "https://localhost:8080/"
        },
        "id": "097gJSyw6_h9",
        "outputId": "a0cb9954-7ed3-4fc4-dd57-ec0780969ec6"
      },
      "execution_count": null,
      "outputs": [
        {
          "output_type": "stream",
          "name": "stdout",
          "text": [
            "[nltk_data] Downloading package punkt to /root/nltk_data...\n",
            "[nltk_data]   Unzipping tokenizers/punkt.zip.\n"
          ]
        },
        {
          "output_type": "execute_result",
          "data": {
            "text/plain": [
              "True"
            ]
          },
          "metadata": {},
          "execution_count": 23
        }
      ]
    },
    {
      "cell_type": "code",
      "source": [
        "find_stem_lyrics('Style')"
      ],
      "metadata": {
        "colab": {
          "base_uri": "https://localhost:8080/"
        },
        "id": "0BP_bHJb7fEK",
        "outputId": "14f82a7b-5dde-4062-eb95-739e09abdb2b"
      },
      "execution_count": null,
      "outputs": [
        {
          "output_type": "execute_result",
          "data": {
            "text/plain": [
              "['say',\n",
              " 'tell',\n",
              " 'where',\n",
              " 'dean',\n",
              " 'he',\n",
              " 'goe',\n",
              " 'when',\n",
              " 'have',\n",
              " 'skirt',\n",
              " 'could',\n",
              " 'midnight',\n",
              " \"'ve\",\n",
              " 'thing',\n",
              " 'hi',\n",
              " 'there',\n",
              " 'got',\n",
              " 'what',\n",
              " 'burn',\n",
              " 'into',\n",
              " 'everi',\n",
              " 'So',\n",
              " 'drive',\n",
              " 'flame',\n",
              " 'or',\n",
              " \"'bout\",\n",
              " 'with',\n",
              " 'your',\n",
              " 'each',\n",
              " '``',\n",
              " 'think',\n",
              " 'us',\n",
              " \"''\",\n",
              " 'off',\n",
              " 'He',\n",
              " 'of',\n",
              " 'headlight',\n",
              " 'but',\n",
              " 'never',\n",
              " 'road',\n",
              " 'time',\n",
              " 'view',\n",
              " 'are',\n",
              " 'and',\n",
              " 'Ca',\n",
              " 'It',\n",
              " 'a',\n",
              " 'true',\n",
              " 'paradis',\n",
              " 'we',\n",
              " 'heard',\n",
              " 'hair',\n",
              " 'sinc',\n",
              " 'stop',\n",
              " 'go',\n",
              " ',',\n",
              " 'from',\n",
              " 'that',\n",
              " 'some',\n",
              " 'take',\n",
              " 'fade',\n",
              " 'in',\n",
              " 'littl',\n",
              " 'lip',\n",
              " 'come',\n",
              " 'down',\n",
              " 'round',\n",
              " 'girl',\n",
              " 'to',\n",
              " 'ca',\n",
              " 'like',\n",
              " 'end',\n",
              " 'on',\n",
              " 'the',\n",
              " 'back',\n",
              " 'yeah',\n",
              " 'jame',\n",
              " 'mmm',\n",
              " 'it',\n",
              " 'lead',\n",
              " 'caus',\n",
              " 'good',\n",
              " 'light',\n",
              " 'look',\n",
              " 'home',\n",
              " 'keep',\n",
              " 'is',\n",
              " 'everytim',\n",
              " 'eye',\n",
              " 'faith',\n",
              " 'wild',\n",
              " 'been',\n",
              " \"n't\",\n",
              " 'know',\n",
              " 'no',\n",
              " 'pick',\n",
              " 'up',\n",
              " 'tight',\n",
              " \"'s\",\n",
              " 'classic',\n",
              " 'just',\n",
              " 'me',\n",
              " 'exactli',\n",
              " 'out',\n",
              " 'Oh',\n",
              " 'slick',\n",
              " 'few',\n",
              " 'red',\n",
              " 'even',\n",
              " 'should',\n",
              " 'white',\n",
              " 'said',\n",
              " 'daydream',\n",
              " 'other',\n",
              " 'long',\n",
              " ')',\n",
              " 'crash',\n",
              " 'about',\n",
              " 'leav',\n",
              " 't-shirt',\n",
              " 'style',\n",
              " 'watch',\n",
              " 'while',\n",
              " 'I',\n",
              " '(',\n",
              " 'too',\n",
              " 'you',\n",
              " 'coat']"
            ]
          },
          "metadata": {},
          "execution_count": 26
        }
      ]
    },
    {
      "cell_type": "code",
      "source": [
        "find_lemmas_lyrics('Out of the Woods')"
      ],
      "metadata": {
        "colab": {
          "base_uri": "https://localhost:8080/"
        },
        "id": "2_22cS4h7kkt",
        "outputId": "e81e1864-ec56-46e1-9c38-2552e7db42a4"
      },
      "execution_count": null,
      "outputs": [
        {
          "output_type": "execute_result",
          "data": {
            "text/plain": [
              "['Remember',\n",
              " 'apart',\n",
              " 'when',\n",
              " 'necklace',\n",
              " 'We',\n",
              " 'Good',\n",
              " 'fall',\n",
              " 'could',\n",
              " 'simple',\n",
              " 'room',\n",
              " 'stood',\n",
              " 'Twenty',\n",
              " 'forget',\n",
              " 'hospital',\n",
              " 'heat',\n",
              " '?',\n",
              " 'hit',\n",
              " 'your',\n",
              " 'Looking',\n",
              " 'The',\n",
              " 'When',\n",
              " 'turned',\n",
              " 'Then',\n",
              " 'tree',\n",
              " 'at',\n",
              " 'baby',\n",
              " 'brake',\n",
              " 'ooh',\n",
              " 'were',\n",
              " 'of',\n",
              " 'be',\n",
              " 'and',\n",
              " 'remember',\n",
              " 'Baby',\n",
              " 'It',\n",
              " 'a',\n",
              " 'u',\n",
              " 'Your',\n",
              " 'rest',\n",
              " 'we',\n",
              " 'screaming',\n",
              " 'Two',\n",
              " 'wa',\n",
              " 'did',\n",
              " 'December',\n",
              " 'chance',\n",
              " 'world',\n",
              " 'sun',\n",
              " 'You',\n",
              " ',',\n",
              " 'flying',\n",
              " 'from',\n",
              " 'monster',\n",
              " 'take',\n",
              " 'free',\n",
              " 'in',\n",
              " 'thinking',\n",
              " 'In',\n",
              " 'And',\n",
              " 'stitch',\n",
              " 'looking',\n",
              " 'too',\n",
              " 'But',\n",
              " 'to',\n",
              " 'Polaroid',\n",
              " 'like',\n",
              " 'then',\n",
              " \"'m\",\n",
              " 'together',\n",
              " 'took',\n",
              " 'black',\n",
              " 'on',\n",
              " 'neck',\n",
              " 'the',\n",
              " 'soon',\n",
              " 'setting',\n",
              " 'back',\n",
              " 'all',\n",
              " 'it',\n",
              " 'To',\n",
              " 'came',\n",
              " 'now',\n",
              " 'built',\n",
              " 'decided',\n",
              " 'couch',\n",
              " 'night',\n",
              " 'quite',\n",
              " 'discovered',\n",
              " 'cry',\n",
              " 'paper',\n",
              " \"n't\",\n",
              " 'wood',\n",
              " 'Last',\n",
              " '!',\n",
              " 'up',\n",
              " 'started',\n",
              " 'airplane',\n",
              " 'just',\n",
              " 'out',\n",
              " 'color',\n",
              " 'Are',\n",
              " 'me',\n",
              " 'furniture',\n",
              " 'Oh',\n",
              " 'white',\n",
              " 'clear',\n",
              " 'move',\n",
              " 'dance',\n",
              " 'said',\n",
              " 'seems',\n",
              " 'last',\n",
              " ')',\n",
              " 'my',\n",
              " 'lying',\n",
              " 'hanging',\n",
              " 'I',\n",
              " '(',\n",
              " 'yet',\n",
              " 'so',\n",
              " 'you',\n",
              " 'walked']"
            ]
          },
          "metadata": {},
          "execution_count": 51
        }
      ]
    },
    {
      "cell_type": "code",
      "source": [
        "import nltk\n",
        "nltk.download('wordnet')"
      ],
      "metadata": {
        "colab": {
          "base_uri": "https://localhost:8080/"
        },
        "id": "HmC1baJq-sGF",
        "outputId": "66e93919-5f62-48cb-9971-de1c59df3ec7"
      },
      "execution_count": null,
      "outputs": [
        {
          "output_type": "stream",
          "name": "stdout",
          "text": [
            "[nltk_data] Downloading package wordnet to /root/nltk_data...\n",
            "[nltk_data]   Package wordnet is already up-to-date!\n"
          ]
        },
        {
          "output_type": "execute_result",
          "data": {
            "text/plain": [
              "True"
            ]
          },
          "metadata": {},
          "execution_count": 50
        }
      ]
    },
    {
      "cell_type": "code",
      "source": [
        "import nltk\n",
        "nltk.download('wordnet')"
      ],
      "metadata": {
        "colab": {
          "base_uri": "https://localhost:8080/"
        },
        "id": "Y6VbKNZO7xAh",
        "outputId": "c3d4988e-7bf5-4820-adf2-c8f83ba24721"
      },
      "execution_count": null,
      "outputs": [
        {
          "output_type": "stream",
          "name": "stdout",
          "text": [
            "[nltk_data] Downloading package wordnet to /root/nltk_data...\n",
            "[nltk_data]   Package wordnet is already up-to-date!\n"
          ]
        },
        {
          "output_type": "execute_result",
          "data": {
            "text/plain": [
              "True"
            ]
          },
          "metadata": {},
          "execution_count": 29
        }
      ]
    },
    {
      "cell_type": "code",
      "source": [
        "from nltk.corpus import stopwords\n",
        "from nltk.tokenize import RegexpTokenizer\n",
        "\n",
        "def plot_freqdist(track_title, n):\n",
        "    \n",
        "    # get tokens from song lyrics\n",
        "    song_lyrics = get_song_lyrics(track_title)\n",
        "    \n",
        "    # initialize tokenizer\n",
        "    tokenizer = RegexpTokenizer('\\w+')\n",
        "    tokens = tokenizer.tokenize(song_lyrics)\n",
        "    \n",
        "    # remove stopwords\n",
        "    stopwords_list_en = stopwords.words('english')\n",
        "    tokens = [token for token in tokens if token not in stopwords_list_en]\n",
        "    \n",
        "    # get frequency distribution of tokens\n",
        "    fd = nltk.FreqDist(tokens)\n",
        "    return fd.plot(n)"
      ],
      "metadata": {
        "id": "ph6xKoLN74Fg"
      },
      "execution_count": null,
      "outputs": []
    },
    {
      "cell_type": "code",
      "source": [
        "plot_freqdist('Out of the Woods', 10);"
      ],
      "metadata": {
        "colab": {
          "base_uri": "https://localhost:8080/",
          "height": 321
        },
        "id": "BUTFmfxr7-Ur",
        "outputId": "1537b853-8488-4c18-8987-dc8ecd68d623"
      },
      "execution_count": null,
      "outputs": [
        {
          "output_type": "display_data",
          "data": {
            "image/png": "[encoded data removed]",
            "text/plain": [
              "<Figure size 432x288 with 1 Axes>"
            ]
          },
          "metadata": {
            "needs_background": "light"
          }
        }
      ]
    },
    {
      "cell_type": "code",
      "source": [
        "import nltk\n",
        "nltk.download('stopwords')"
      ],
      "metadata": {
        "colab": {
          "base_uri": "https://localhost:8080/"
        },
        "id": "dWa872hr-4Kl",
        "outputId": "1b01a74d-2c93-456d-dc5a-b6aaac3cf4de"
      },
      "execution_count": null,
      "outputs": [
        {
          "output_type": "stream",
          "name": "stdout",
          "text": [
            "[nltk_data] Downloading package stopwords to /root/nltk_data...\n",
            "[nltk_data]   Unzipping corpora/stopwords.zip.\n"
          ]
        },
        {
          "output_type": "execute_result",
          "data": {
            "text/plain": [
              "True"
            ]
          },
          "metadata": {},
          "execution_count": 52
        }
      ]
    },
    {
      "cell_type": "code",
      "source": [
        "from nltk.sentiment.vader import SentimentIntensityAnalyzer\n",
        "\n",
        "def get_sentiment(text):\n",
        "    \n",
        "    # initialize tokenizer\n",
        "    tokenizer = RegexpTokenizer('\\w+')\n",
        "    tokens = tokenizer.tokenize(text)\n",
        "    \n",
        "    sd = SentimentIntensityAnalyzer()\n",
        "    return sd.polarity_scores(text)"
      ],
      "metadata": {
        "id": "lYMTAwSO8GCt"
      },
      "execution_count": null,
      "outputs": []
    },
    {
      "cell_type": "code",
      "source": [
        "lyrics_df['sentiment_score'] = lyrics_df['lyric'].apply(get_sentiment)"
      ],
      "metadata": {
        "id": "KXDaGqfh8LoP"
      },
      "execution_count": null,
      "outputs": []
    },
    {
      "cell_type": "code",
      "source": [
        "import nltk\n",
        "nltk.download('vader_lexicon')"
      ],
      "metadata": {
        "colab": {
          "base_uri": "https://localhost:8080/"
        },
        "id": "2ClKMpPa_Eai",
        "outputId": "99c110f5-ce76-4ebd-dfa2-3549325270ec"
      },
      "execution_count": null,
      "outputs": [
        {
          "output_type": "stream",
          "name": "stdout",
          "text": [
            "[nltk_data] Downloading package vader_lexicon to /root/nltk_data...\n"
          ]
        },
        {
          "output_type": "execute_result",
          "data": {
            "text/plain": [
              "True"
            ]
          },
          "metadata": {},
          "execution_count": 54
        }
      ]
    },
    {
      "cell_type": "code",
      "source": [
        "def decompose_sentiment_scores(df):\n",
        "    for sentiment in ['neg', 'neu', 'pos',\n",
        "                'compound']:\n",
        "        df[sentiment] = df['sentiment_score'].apply(\n",
        "                                lambda x: x[sentiment]*100)\n",
        "    df.rename(columns={'neg': 'negative (%)',\n",
        "                       'pos': 'positive (%)',\n",
        "                       'neu': 'neutral (%)',\n",
        "                       'compound': 'mixed (%)'}, inplace=True)"
      ],
      "metadata": {
        "id": "hEjEXRYh8Pl2"
      },
      "execution_count": null,
      "outputs": []
    },
    {
      "cell_type": "code",
      "source": [
        "decompose_sentiment_scores(lyrics_df)"
      ],
      "metadata": {
        "id": "FPI5cBJK8Tjh"
      },
      "execution_count": null,
      "outputs": []
    },
    {
      "cell_type": "code",
      "source": [
        "lyrics_df.head()"
      ],
      "metadata": {
        "colab": {
          "base_uri": "https://localhost:8080/",
          "height": 206
        },
        "id": "4J7vFDUY8WyY",
        "outputId": "28c72326-c283-45fa-aa9d-182eef90d718"
      },
      "execution_count": null,
      "outputs": [
        {
          "output_type": "execute_result",
          "data": {
            "text/html": [
              "\n",
              "  <div id=\"df-fb862079-7a3e-471d-a286-b129e834867e\">\n",
              "    <div class=\"colab-df-container\">\n",
              "      <div>\n",
              "<style scoped>\n",
              "    .dataframe tbody tr th:only-of-type {\n",
              "        vertical-align: middle;\n",
              "    }\n",
              "\n",
              "    .dataframe tbody tr th {\n",
              "        vertical-align: top;\n",
              "    }\n",
              "\n",
              "    .dataframe thead th {\n",
              "        text-align: right;\n",
              "    }\n",
              "</style>\n",
              "<table border=\"1\" class=\"dataframe\">\n",
              "  <thead>\n",
              "    <tr style=\"text-align: right;\">\n",
              "      <th></th>\n",
              "      <th>artist</th>\n",
              "      <th>album</th>\n",
              "      <th>track_title</th>\n",
              "      <th>track_n</th>\n",
              "      <th>lyric</th>\n",
              "      <th>line</th>\n",
              "      <th>year</th>\n",
              "    </tr>\n",
              "  </thead>\n",
              "  <tbody>\n",
              "    <tr>\n",
              "      <th>0</th>\n",
              "      <td>Taylor Swift</td>\n",
              "      <td>Taylor Swift</td>\n",
              "      <td>Tim McGraw</td>\n",
              "      <td>1</td>\n",
              "      <td>He said the way my blue ey...</td>\n",
              "      <td>1</td>\n",
              "      <td>2006</td>\n",
              "    </tr>\n",
              "    <tr>\n",
              "      <th>1</th>\n",
              "      <td>Taylor Swift</td>\n",
              "      <td>Taylor Swift</td>\n",
              "      <td>Tim McGraw</td>\n",
              "      <td>1</td>\n",
              "      <td>Put those Georgia stars to...</td>\n",
              "      <td>2</td>\n",
              "      <td>2006</td>\n",
              "    </tr>\n",
              "    <tr>\n",
              "      <th>2</th>\n",
              "      <td>Taylor Swift</td>\n",
              "      <td>Taylor Swift</td>\n",
              "      <td>Tim McGraw</td>\n",
              "      <td>1</td>\n",
              "      <td>I said, \"That's a lie\"</td>\n",
              "      <td>3</td>\n",
              "      <td>2006</td>\n",
              "    </tr>\n",
              "    <tr>\n",
              "      <th>3</th>\n",
              "      <td>Taylor Swift</td>\n",
              "      <td>Taylor Swift</td>\n",
              "      <td>Tim McGraw</td>\n",
              "      <td>1</td>\n",
              "      <td>Just a boy in a Chevy truck</td>\n",
              "      <td>4</td>\n",
              "      <td>2006</td>\n",
              "    </tr>\n",
              "    <tr>\n",
              "      <th>4</th>\n",
              "      <td>Taylor Swift</td>\n",
              "      <td>Taylor Swift</td>\n",
              "      <td>Tim McGraw</td>\n",
              "      <td>1</td>\n",
              "      <td>That had a tendency of get...</td>\n",
              "      <td>5</td>\n",
              "      <td>2006</td>\n",
              "    </tr>\n",
              "  </tbody>\n",
              "</table>\n",
              "</div>\n",
              "      <button class=\"colab-df-convert\" onclick=\"convertToInteractive('df-fb862079-7a3e-471d-a286-b129e834867e')\"\n",
              "              title=\"Convert this dataframe to an interactive table.\"\n",
              "              style=\"display:none;\">\n",
              "        \n",
              "  <svg xmlns=\"http://www.w3.org/2000/svg\" height=\"24px\"viewBox=\"0 0 24 24\"\n",
              "       width=\"24px\">\n",
              "    <path d=\"M0 0h24v24H0V0z\" fill=\"none\"/>\n",
              "    <path d=\"M18.56 5.44l.94 2.06.94-2.06 2.06-.94-2.06-.94-.94-2.06-.94 2.06-2.06.94zm-11 1L8.5 8.5l.94-2.06 2.06-.94-2.06-.94L8.5 2.5l-.94 2.06-2.06.94zm10 10l.94 2.06.94-2.06 2.06-.94-2.06-.94-.94-2.06-.94 2.06-2.06.94z\"/><path d=\"M17.41 7.96l-1.37-1.37c-.4-.4-.92-.59-1.43-.59-.52 0-1.04.2-1.43.59L10.3 9.45l-7.72 7.72c-.78.78-.78 2.05 0 2.83L4 21.41c.39.39.9.59 1.41.59.51 0 1.02-.2 1.41-.59l7.78-7.78 2.81-2.81c.8-.78.8-2.07 0-2.86zM5.41 20L4 18.59l7.72-7.72 1.47 1.35L5.41 20z\"/>\n",
              "  </svg>\n",
              "      </button>\n",
              "      \n",
              "  <style>\n",
              "    .colab-df-container {\n",
              "      display:flex;\n",
              "      flex-wrap:wrap;\n",
              "      gap: 12px;\n",
              "    }\n",
              "\n",
              "    .colab-df-convert {\n",
              "      background-color: #E8F0FE;\n",
              "      border: none;\n",
              "      border-radius: 50%;\n",
              "      cursor: pointer;\n",
              "      display: none;\n",
              "      fill: #1967D2;\n",
              "      height: 32px;\n",
              "      padding: 0 0 0 0;\n",
              "      width: 32px;\n",
              "    }\n",
              "\n",
              "    .colab-df-convert:hover {\n",
              "      background-color: #E2EBFA;\n",
              "      box-shadow: 0px 1px 2px rgba(60, 64, 67, 0.3), 0px 1px 3px 1px rgba(60, 64, 67, 0.15);\n",
              "      fill: #174EA6;\n",
              "    }\n",
              "\n",
              "    [theme=dark] .colab-df-convert {\n",
              "      background-color: #3B4455;\n",
              "      fill: #D2E3FC;\n",
              "    }\n",
              "\n",
              "    [theme=dark] .colab-df-convert:hover {\n",
              "      background-color: #434B5C;\n",
              "      box-shadow: 0px 1px 3px 1px rgba(0, 0, 0, 0.15);\n",
              "      filter: drop-shadow(0px 1px 2px rgba(0, 0, 0, 0.3));\n",
              "      fill: #FFFFFF;\n",
              "    }\n",
              "  </style>\n",
              "\n",
              "      <script>\n",
              "        const buttonEl =\n",
              "          document.querySelector('#df-fb862079-7a3e-471d-a286-b129e834867e button.colab-df-convert');\n",
              "        buttonEl.style.display =\n",
              "          google.colab.kernel.accessAllowed ? 'block' : 'none';\n",
              "\n",
              "        async function convertToInteractive(key) {\n",
              "          const element = document.querySelector('#df-fb862079-7a3e-471d-a286-b129e834867e');\n",
              "          const dataTable =\n",
              "            await google.colab.kernel.invokeFunction('convertToInteractive',\n",
              "                                                     [key], {});\n",
              "          if (!dataTable) return;\n",
              "\n",
              "          const docLinkHtml = 'Like what you see? Visit the ' +\n",
              "            '<a target=\"_blank\" href=https://colab.research.google.com/notebooks/data_table.ipynb>data table notebook</a>'\n",
              "            + ' to learn more about interactive tables.';\n",
              "          element.innerHTML = '';\n",
              "          dataTable['output_type'] = 'display_data';\n",
              "          await google.colab.output.renderOutput(dataTable, element);\n",
              "          const docLink = document.createElement('div');\n",
              "          docLink.innerHTML = docLinkHtml;\n",
              "          element.appendChild(docLink);\n",
              "        }\n",
              "      </script>\n",
              "    </div>\n",
              "  </div>\n",
              "  "
            ],
            "text/plain": [
              "         artist         album  ... line  year\n",
              "0  Taylor Swift  Taylor Swift  ...    1  2006\n",
              "1  Taylor Swift  Taylor Swift  ...    2  2006\n",
              "2  Taylor Swift  Taylor Swift  ...    3  2006\n",
              "3  Taylor Swift  Taylor Swift  ...    4  2006\n",
              "4  Taylor Swift  Taylor Swift  ...    5  2006\n",
              "\n",
              "[5 rows x 7 columns]"
            ]
          },
          "metadata": {},
          "execution_count": 36
        }
      ]
    },
    {
      "cell_type": "code",
      "source": [
        "lyrics_df.groupby('track_title')[['negative (%)', 'neutral (%)', 'positive (%)',\n",
        "                            'mixed (%)']].mean()"
      ],
      "metadata": {
        "colab": {
          "base_uri": "https://localhost:8080/",
          "height": 455
        },
        "id": "4xLZ8Z-98dE2",
        "outputId": "f932541a-e23f-41b7-b526-d923562af54b"
      },
      "execution_count": null,
      "outputs": [
        {
          "output_type": "execute_result",
          "data": {
            "text/html": [
              "\n",
              "  <div id=\"df-0f57db58-6490-459c-b57f-60c2a036dbbe\">\n",
              "    <div class=\"colab-df-container\">\n",
              "      <div>\n",
              "<style scoped>\n",
              "    .dataframe tbody tr th:only-of-type {\n",
              "        vertical-align: middle;\n",
              "    }\n",
              "\n",
              "    .dataframe tbody tr th {\n",
              "        vertical-align: top;\n",
              "    }\n",
              "\n",
              "    .dataframe thead th {\n",
              "        text-align: right;\n",
              "    }\n",
              "</style>\n",
              "<table border=\"1\" class=\"dataframe\">\n",
              "  <thead>\n",
              "    <tr style=\"text-align: right;\">\n",
              "      <th></th>\n",
              "      <th>negative (%)</th>\n",
              "      <th>neutral (%)</th>\n",
              "      <th>positive (%)</th>\n",
              "      <th>mixed (%)</th>\n",
              "    </tr>\n",
              "    <tr>\n",
              "      <th>track_title</th>\n",
              "      <th></th>\n",
              "      <th></th>\n",
              "      <th></th>\n",
              "      <th></th>\n",
              "    </tr>\n",
              "  </thead>\n",
              "  <tbody>\n",
              "    <tr>\n",
              "      <th>...Ready for It?</th>\n",
              "      <td>7.090164</td>\n",
              "      <td>83.327869</td>\n",
              "      <td>9.578689</td>\n",
              "      <td>2.189672</td>\n",
              "    </tr>\n",
              "    <tr>\n",
              "      <th>22</th>\n",
              "      <td>5.054717</td>\n",
              "      <td>74.141509</td>\n",
              "      <td>20.803774</td>\n",
              "      <td>18.656226</td>\n",
              "    </tr>\n",
              "    <tr>\n",
              "      <th>A Perfectly Good Heart</th>\n",
              "      <td>1.030435</td>\n",
              "      <td>75.026087</td>\n",
              "      <td>23.943478</td>\n",
              "      <td>37.589565</td>\n",
              "    </tr>\n",
              "    <tr>\n",
              "      <th>A Place In This World</th>\n",
              "      <td>5.170370</td>\n",
              "      <td>85.611111</td>\n",
              "      <td>9.218519</td>\n",
              "      <td>3.266296</td>\n",
              "    </tr>\n",
              "    <tr>\n",
              "      <th>All Too Well</th>\n",
              "      <td>5.476596</td>\n",
              "      <td>84.195745</td>\n",
              "      <td>10.327660</td>\n",
              "      <td>7.430638</td>\n",
              "    </tr>\n",
              "    <tr>\n",
              "      <th>...</th>\n",
              "      <td>...</td>\n",
              "      <td>...</td>\n",
              "      <td>...</td>\n",
              "      <td>...</td>\n",
              "    </tr>\n",
              "    <tr>\n",
              "      <th>Wildest Dreams</th>\n",
              "      <td>3.522414</td>\n",
              "      <td>83.812069</td>\n",
              "      <td>12.663793</td>\n",
              "      <td>9.931724</td>\n",
              "    </tr>\n",
              "    <tr>\n",
              "      <th>Wonderland</th>\n",
              "      <td>7.449254</td>\n",
              "      <td>88.480597</td>\n",
              "      <td>4.071642</td>\n",
              "      <td>-5.306418</td>\n",
              "    </tr>\n",
              "    <tr>\n",
              "      <th>You Are in Love</th>\n",
              "      <td>3.302222</td>\n",
              "      <td>78.668889</td>\n",
              "      <td>18.028889</td>\n",
              "      <td>16.676000</td>\n",
              "    </tr>\n",
              "    <tr>\n",
              "      <th>You Belong With Me</th>\n",
              "      <td>3.330612</td>\n",
              "      <td>89.520408</td>\n",
              "      <td>7.148980</td>\n",
              "      <td>5.932653</td>\n",
              "    </tr>\n",
              "    <tr>\n",
              "      <th>You're Not Sorry</th>\n",
              "      <td>4.133333</td>\n",
              "      <td>78.502778</td>\n",
              "      <td>17.363889</td>\n",
              "      <td>15.479444</td>\n",
              "    </tr>\n",
              "  </tbody>\n",
              "</table>\n",
              "<p>94 rows × 4 columns</p>\n",
              "</div>\n",
              "      <button class=\"colab-df-convert\" onclick=\"convertToInteractive('df-0f57db58-6490-459c-b57f-60c2a036dbbe')\"\n",
              "              title=\"Convert this dataframe to an interactive table.\"\n",
              "              style=\"display:none;\">\n",
              "        \n",
              "  <svg xmlns=\"http://www.w3.org/2000/svg\" height=\"24px\"viewBox=\"0 0 24 24\"\n",
              "       width=\"24px\">\n",
              "    <path d=\"M0 0h24v24H0V0z\" fill=\"none\"/>\n",
              "    <path d=\"M18.56 5.44l.94 2.06.94-2.06 2.06-.94-2.06-.94-.94-2.06-.94 2.06-2.06.94zm-11 1L8.5 8.5l.94-2.06 2.06-.94-2.06-.94L8.5 2.5l-.94 2.06-2.06.94zm10 10l.94 2.06.94-2.06 2.06-.94-2.06-.94-.94-2.06-.94 2.06-2.06.94z\"/><path d=\"M17.41 7.96l-1.37-1.37c-.4-.4-.92-.59-1.43-.59-.52 0-1.04.2-1.43.59L10.3 9.45l-7.72 7.72c-.78.78-.78 2.05 0 2.83L4 21.41c.39.39.9.59 1.41.59.51 0 1.02-.2 1.41-.59l7.78-7.78 2.81-2.81c.8-.78.8-2.07 0-2.86zM5.41 20L4 18.59l7.72-7.72 1.47 1.35L5.41 20z\"/>\n",
              "  </svg>\n",
              "      </button>\n",
              "      \n",
              "  <style>\n",
              "    .colab-df-container {\n",
              "      display:flex;\n",
              "      flex-wrap:wrap;\n",
              "      gap: 12px;\n",
              "    }\n",
              "\n",
              "    .colab-df-convert {\n",
              "      background-color: #E8F0FE;\n",
              "      border: none;\n",
              "      border-radius: 50%;\n",
              "      cursor: pointer;\n",
              "      display: none;\n",
              "      fill: #1967D2;\n",
              "      height: 32px;\n",
              "      padding: 0 0 0 0;\n",
              "      width: 32px;\n",
              "    }\n",
              "\n",
              "    .colab-df-convert:hover {\n",
              "      background-color: #E2EBFA;\n",
              "      box-shadow: 0px 1px 2px rgba(60, 64, 67, 0.3), 0px 1px 3px 1px rgba(60, 64, 67, 0.15);\n",
              "      fill: #174EA6;\n",
              "    }\n",
              "\n",
              "    [theme=dark] .colab-df-convert {\n",
              "      background-color: #3B4455;\n",
              "      fill: #D2E3FC;\n",
              "    }\n",
              "\n",
              "    [theme=dark] .colab-df-convert:hover {\n",
              "      background-color: #434B5C;\n",
              "      box-shadow: 0px 1px 3px 1px rgba(0, 0, 0, 0.15);\n",
              "      filter: drop-shadow(0px 1px 2px rgba(0, 0, 0, 0.3));\n",
              "      fill: #FFFFFF;\n",
              "    }\n",
              "  </style>\n",
              "\n",
              "      <script>\n",
              "        const buttonEl =\n",
              "          document.querySelector('#df-0f57db58-6490-459c-b57f-60c2a036dbbe button.colab-df-convert');\n",
              "        buttonEl.style.display =\n",
              "          google.colab.kernel.accessAllowed ? 'block' : 'none';\n",
              "\n",
              "        async function convertToInteractive(key) {\n",
              "          const element = document.querySelector('#df-0f57db58-6490-459c-b57f-60c2a036dbbe');\n",
              "          const dataTable =\n",
              "            await google.colab.kernel.invokeFunction('convertToInteractive',\n",
              "                                                     [key], {});\n",
              "          if (!dataTable) return;\n",
              "\n",
              "          const docLinkHtml = 'Like what you see? Visit the ' +\n",
              "            '<a target=\"_blank\" href=https://colab.research.google.com/notebooks/data_table.ipynb>data table notebook</a>'\n",
              "            + ' to learn more about interactive tables.';\n",
              "          element.innerHTML = '';\n",
              "          dataTable['output_type'] = 'display_data';\n",
              "          await google.colab.output.renderOutput(dataTable, element);\n",
              "          const docLink = document.createElement('div');\n",
              "          docLink.innerHTML = docLinkHtml;\n",
              "          element.appendChild(docLink);\n",
              "        }\n",
              "      </script>\n",
              "    </div>\n",
              "  </div>\n",
              "  "
            ],
            "text/plain": [
              "                        negative (%)  neutral (%)  positive (%)  mixed (%)\n",
              "track_title                                                               \n",
              "...Ready for It?            7.090164    83.327869      9.578689   2.189672\n",
              "22                          5.054717    74.141509     20.803774  18.656226\n",
              "A Perfectly Good Heart      1.030435    75.026087     23.943478  37.589565\n",
              "A Place In This World       5.170370    85.611111      9.218519   3.266296\n",
              "All Too Well                5.476596    84.195745     10.327660   7.430638\n",
              "...                              ...          ...           ...        ...\n",
              "Wildest Dreams              3.522414    83.812069     12.663793   9.931724\n",
              "Wonderland                  7.449254    88.480597      4.071642  -5.306418\n",
              "You Are in Love             3.302222    78.668889     18.028889  16.676000\n",
              "You Belong With Me          3.330612    89.520408      7.148980   5.932653\n",
              "You're Not Sorry            4.133333    78.502778     17.363889  15.479444\n",
              "\n",
              "[94 rows x 4 columns]"
            ]
          },
          "metadata": {},
          "execution_count": 57
        }
      ]
    },
    {
      "cell_type": "code",
      "source": [
        "grouped = lyrics_df.groupby('track_title')[['negative (%)', 'neutral (%)', 'positive (%)',\n",
        "                            'mixed (%)']].mean().reset_index()"
      ],
      "metadata": {
        "id": "lAmCNp8j8hVP"
      },
      "execution_count": null,
      "outputs": []
    },
    {
      "cell_type": "code",
      "source": [
        "grouped"
      ],
      "metadata": {
        "colab": {
          "base_uri": "https://localhost:8080/",
          "height": 423
        },
        "id": "zcUqWwSZ8iMd",
        "outputId": "d2a03d71-4094-4ec3-c55a-105c8d1f4196"
      },
      "execution_count": null,
      "outputs": [
        {
          "output_type": "execute_result",
          "data": {
            "text/html": [
              "\n",
              "  <div id=\"df-5a491ff1-9707-4ba9-8a3d-84b9f4def5a8\">\n",
              "    <div class=\"colab-df-container\">\n",
              "      <div>\n",
              "<style scoped>\n",
              "    .dataframe tbody tr th:only-of-type {\n",
              "        vertical-align: middle;\n",
              "    }\n",
              "\n",
              "    .dataframe tbody tr th {\n",
              "        vertical-align: top;\n",
              "    }\n",
              "\n",
              "    .dataframe thead th {\n",
              "        text-align: right;\n",
              "    }\n",
              "</style>\n",
              "<table border=\"1\" class=\"dataframe\">\n",
              "  <thead>\n",
              "    <tr style=\"text-align: right;\">\n",
              "      <th></th>\n",
              "      <th>track_title</th>\n",
              "      <th>negative (%)</th>\n",
              "      <th>neutral (%)</th>\n",
              "      <th>positive (%)</th>\n",
              "      <th>mixed (%)</th>\n",
              "    </tr>\n",
              "  </thead>\n",
              "  <tbody>\n",
              "    <tr>\n",
              "      <th>0</th>\n",
              "      <td>...Ready for It?</td>\n",
              "      <td>7.090164</td>\n",
              "      <td>83.327869</td>\n",
              "      <td>9.578689</td>\n",
              "      <td>2.189672</td>\n",
              "    </tr>\n",
              "    <tr>\n",
              "      <th>1</th>\n",
              "      <td>22</td>\n",
              "      <td>5.054717</td>\n",
              "      <td>74.141509</td>\n",
              "      <td>20.803774</td>\n",
              "      <td>18.656226</td>\n",
              "    </tr>\n",
              "    <tr>\n",
              "      <th>2</th>\n",
              "      <td>A Perfectly Good Heart</td>\n",
              "      <td>1.030435</td>\n",
              "      <td>75.026087</td>\n",
              "      <td>23.943478</td>\n",
              "      <td>37.589565</td>\n",
              "    </tr>\n",
              "    <tr>\n",
              "      <th>3</th>\n",
              "      <td>A Place In This World</td>\n",
              "      <td>5.170370</td>\n",
              "      <td>85.611111</td>\n",
              "      <td>9.218519</td>\n",
              "      <td>3.266296</td>\n",
              "    </tr>\n",
              "    <tr>\n",
              "      <th>4</th>\n",
              "      <td>All Too Well</td>\n",
              "      <td>5.476596</td>\n",
              "      <td>84.195745</td>\n",
              "      <td>10.327660</td>\n",
              "      <td>7.430638</td>\n",
              "    </tr>\n",
              "    <tr>\n",
              "      <th>...</th>\n",
              "      <td>...</td>\n",
              "      <td>...</td>\n",
              "      <td>...</td>\n",
              "      <td>...</td>\n",
              "      <td>...</td>\n",
              "    </tr>\n",
              "    <tr>\n",
              "      <th>89</th>\n",
              "      <td>Wildest Dreams</td>\n",
              "      <td>3.522414</td>\n",
              "      <td>83.812069</td>\n",
              "      <td>12.663793</td>\n",
              "      <td>9.931724</td>\n",
              "    </tr>\n",
              "    <tr>\n",
              "      <th>90</th>\n",
              "      <td>Wonderland</td>\n",
              "      <td>7.449254</td>\n",
              "      <td>88.480597</td>\n",
              "      <td>4.071642</td>\n",
              "      <td>-5.306418</td>\n",
              "    </tr>\n",
              "    <tr>\n",
              "      <th>91</th>\n",
              "      <td>You Are in Love</td>\n",
              "      <td>3.302222</td>\n",
              "      <td>78.668889</td>\n",
              "      <td>18.028889</td>\n",
              "      <td>16.676000</td>\n",
              "    </tr>\n",
              "    <tr>\n",
              "      <th>92</th>\n",
              "      <td>You Belong With Me</td>\n",
              "      <td>3.330612</td>\n",
              "      <td>89.520408</td>\n",
              "      <td>7.148980</td>\n",
              "      <td>5.932653</td>\n",
              "    </tr>\n",
              "    <tr>\n",
              "      <th>93</th>\n",
              "      <td>You're Not Sorry</td>\n",
              "      <td>4.133333</td>\n",
              "      <td>78.502778</td>\n",
              "      <td>17.363889</td>\n",
              "      <td>15.479444</td>\n",
              "    </tr>\n",
              "  </tbody>\n",
              "</table>\n",
              "<p>94 rows × 5 columns</p>\n",
              "</div>\n",
              "      <button class=\"colab-df-convert\" onclick=\"convertToInteractive('df-5a491ff1-9707-4ba9-8a3d-84b9f4def5a8')\"\n",
              "              title=\"Convert this dataframe to an interactive table.\"\n",
              "              style=\"display:none;\">\n",
              "        \n",
              "  <svg xmlns=\"http://www.w3.org/2000/svg\" height=\"24px\"viewBox=\"0 0 24 24\"\n",
              "       width=\"24px\">\n",
              "    <path d=\"M0 0h24v24H0V0z\" fill=\"none\"/>\n",
              "    <path d=\"M18.56 5.44l.94 2.06.94-2.06 2.06-.94-2.06-.94-.94-2.06-.94 2.06-2.06.94zm-11 1L8.5 8.5l.94-2.06 2.06-.94-2.06-.94L8.5 2.5l-.94 2.06-2.06.94zm10 10l.94 2.06.94-2.06 2.06-.94-2.06-.94-.94-2.06-.94 2.06-2.06.94z\"/><path d=\"M17.41 7.96l-1.37-1.37c-.4-.4-.92-.59-1.43-.59-.52 0-1.04.2-1.43.59L10.3 9.45l-7.72 7.72c-.78.78-.78 2.05 0 2.83L4 21.41c.39.39.9.59 1.41.59.51 0 1.02-.2 1.41-.59l7.78-7.78 2.81-2.81c.8-.78.8-2.07 0-2.86zM5.41 20L4 18.59l7.72-7.72 1.47 1.35L5.41 20z\"/>\n",
              "  </svg>\n",
              "      </button>\n",
              "      \n",
              "  <style>\n",
              "    .colab-df-container {\n",
              "      display:flex;\n",
              "      flex-wrap:wrap;\n",
              "      gap: 12px;\n",
              "    }\n",
              "\n",
              "    .colab-df-convert {\n",
              "      background-color: #E8F0FE;\n",
              "      border: none;\n",
              "      border-radius: 50%;\n",
              "      cursor: pointer;\n",
              "      display: none;\n",
              "      fill: #1967D2;\n",
              "      height: 32px;\n",
              "      padding: 0 0 0 0;\n",
              "      width: 32px;\n",
              "    }\n",
              "\n",
              "    .colab-df-convert:hover {\n",
              "      background-color: #E2EBFA;\n",
              "      box-shadow: 0px 1px 2px rgba(60, 64, 67, 0.3), 0px 1px 3px 1px rgba(60, 64, 67, 0.15);\n",
              "      fill: #174EA6;\n",
              "    }\n",
              "\n",
              "    [theme=dark] .colab-df-convert {\n",
              "      background-color: #3B4455;\n",
              "      fill: #D2E3FC;\n",
              "    }\n",
              "\n",
              "    [theme=dark] .colab-df-convert:hover {\n",
              "      background-color: #434B5C;\n",
              "      box-shadow: 0px 1px 3px 1px rgba(0, 0, 0, 0.15);\n",
              "      filter: drop-shadow(0px 1px 2px rgba(0, 0, 0, 0.3));\n",
              "      fill: #FFFFFF;\n",
              "    }\n",
              "  </style>\n",
              "\n",
              "      <script>\n",
              "        const buttonEl =\n",
              "          document.querySelector('#df-5a491ff1-9707-4ba9-8a3d-84b9f4def5a8 button.colab-df-convert');\n",
              "        buttonEl.style.display =\n",
              "          google.colab.kernel.accessAllowed ? 'block' : 'none';\n",
              "\n",
              "        async function convertToInteractive(key) {\n",
              "          const element = document.querySelector('#df-5a491ff1-9707-4ba9-8a3d-84b9f4def5a8');\n",
              "          const dataTable =\n",
              "            await google.colab.kernel.invokeFunction('convertToInteractive',\n",
              "                                                     [key], {});\n",
              "          if (!dataTable) return;\n",
              "\n",
              "          const docLinkHtml = 'Like what you see? Visit the ' +\n",
              "            '<a target=\"_blank\" href=https://colab.research.google.com/notebooks/data_table.ipynb>data table notebook</a>'\n",
              "            + ' to learn more about interactive tables.';\n",
              "          element.innerHTML = '';\n",
              "          dataTable['output_type'] = 'display_data';\n",
              "          await google.colab.output.renderOutput(dataTable, element);\n",
              "          const docLink = document.createElement('div');\n",
              "          docLink.innerHTML = docLinkHtml;\n",
              "          element.appendChild(docLink);\n",
              "        }\n",
              "      </script>\n",
              "    </div>\n",
              "  </div>\n",
              "  "
            ],
            "text/plain": [
              "               track_title  negative (%)  neutral (%)  positive (%)  mixed (%)\n",
              "0         ...Ready for It?      7.090164    83.327869      9.578689   2.189672\n",
              "1                       22      5.054717    74.141509     20.803774  18.656226\n",
              "2   A Perfectly Good Heart      1.030435    75.026087     23.943478  37.589565\n",
              "3    A Place In This World      5.170370    85.611111      9.218519   3.266296\n",
              "4             All Too Well      5.476596    84.195745     10.327660   7.430638\n",
              "..                     ...           ...          ...           ...        ...\n",
              "89          Wildest Dreams      3.522414    83.812069     12.663793   9.931724\n",
              "90              Wonderland      7.449254    88.480597      4.071642  -5.306418\n",
              "91         You Are in Love      3.302222    78.668889     18.028889  16.676000\n",
              "92      You Belong With Me      3.330612    89.520408      7.148980   5.932653\n",
              "93        You're Not Sorry      4.133333    78.502778     17.363889  15.479444\n",
              "\n",
              "[94 rows x 5 columns]"
            ]
          },
          "metadata": {},
          "execution_count": 59
        }
      ]
    },
    {
      "cell_type": "code",
      "source": [
        "def plot_sentiment_by_track(track_title):\n",
        "    \n",
        "    grouped = lyrics_df.groupby('track_title')[['negative (%)', 'neutral (%)', 'positive (%)',\n",
        "                            'mixed (%)']].mean().reset_index()\n",
        "    \n",
        "    grouped[grouped['track_title'] == track_title].plot_bokeh.bar(\n",
        "            xlabel='Sentiment Score', xticks=[0, 1, 2, 3],\n",
        "                        \n",
        "            title='Sentiment score for track: '+ str(track_title))"
      ],
      "metadata": {
        "id": "LPB2z_TU8pBW"
      },
      "execution_count": null,
      "outputs": []
    },
    {
      "cell_type": "code",
      "source": [
        "plot_sentiment_by_track('Shake It Off')"
      ],
      "metadata": {
        "colab": {
          "base_uri": "https://localhost:8080/",
          "height": 17
        },
        "id": "78LEpLPH8p-a",
        "outputId": "442fa910-d229-4db1-c09c-775a896e42c8"
      },
      "execution_count": null,
      "outputs": [
        {
          "output_type": "display_data",
          "data": {
            "application/javascript": [
              "\n",
              "(function(root) {\n",
              "  function now() {\n",
              "    return new Date();\n",
              "  }\n",
              "\n",
              "  var force = true;\n",
              "\n",
              "  if (typeof root._bokeh_onload_callbacks === \"undefined\" || force === true) {\n",
              "    root._bokeh_onload_callbacks = [];\n",
              "    root._bokeh_is_loading = undefined;\n",
              "  }\n",
              "\n",
              "  var JS_MIME_TYPE = 'application/javascript';\n",
              "  var HTML_MIME_TYPE = 'text/html';\n",
              "  var EXEC_MIME_TYPE = 'application/vnd.bokehjs_exec.v0+json';\n",
              "  var CLASS_NAME = 'output_bokeh rendered_html';\n",
              "\n",
              "  /**\n",
              "   * Render data to the DOM node\n",
              "   */\n",
              "  function render(props, node) {\n",
              "    var script = document.createElement(\"script\");\n",
              "    node.appendChild(script);\n",
              "  }\n",
              "\n",
              "  /**\n",
              "   * Handle when an output is cleared or removed\n",
              "   */\n",
              "  function handleClearOutput(event, handle) {\n",
              "    var cell = handle.cell;\n",
              "\n",
              "    var id = cell.output_area._bokeh_element_id;\n",
              "    var server_id = cell.output_area._bokeh_server_id;\n",
              "    // Clean up Bokeh references\n",
              "    if (id != null && id in Bokeh.index) {\n",
              "      Bokeh.index[id].model.document.clear();\n",
              "      delete Bokeh.index[id];\n",
              "    }\n",
              "\n",
              "    if (server_id !== undefined) {\n",
              "      // Clean up Bokeh references\n",
              "      var cmd = \"from bokeh.io.state import curstate; print(curstate().uuid_to_server['\" + server_id + \"'].get_sessions()[0].document.roots[0]._id)\";\n",
              "      cell.notebook.kernel.execute(cmd, {\n",
              "        iopub: {\n",
              "          output: function(msg) {\n",
              "            var id = msg.content.text.trim();\n",
              "            if (id in Bokeh.index) {\n",
              "              Bokeh.index[id].model.document.clear();\n",
              "              delete Bokeh.index[id];\n",
              "            }\n",
              "          }\n",
              "        }\n",
              "      });\n",
              "      // Destroy server and session\n",
              "      var cmd = \"import bokeh.io.notebook as ion; ion.destroy_server('\" + server_id + \"')\";\n",
              "      cell.notebook.kernel.execute(cmd);\n",
              "    }\n",
              "  }\n",
              "\n",
              "  /**\n",
              "   * Handle when a new output is added\n",
              "   */\n",
              "  function handleAddOutput(event, handle) {\n",
              "    var output_area = handle.output_area;\n",
              "    var output = handle.output;\n",
              "\n",
              "    // limit handleAddOutput to display_data with EXEC_MIME_TYPE content only\n",
              "    if ((output.output_type != \"display_data\") || (!Object.prototype.hasOwnProperty.call(output.data, EXEC_MIME_TYPE))) {\n",
              "      return\n",
              "    }\n",
              "\n",
              "    var toinsert = output_area.element.find(\".\" + CLASS_NAME.split(' ')[0]);\n",
              "\n",
              "    if (output.metadata[EXEC_MIME_TYPE][\"id\"] !== undefined) {\n",
              "      toinsert[toinsert.length - 1].firstChild.textContent = output.data[JS_MIME_TYPE];\n",
              "      // store reference to embed id on output_area\n",
              "      output_area._bokeh_element_id = output.metadata[EXEC_MIME_TYPE][\"id\"];\n",
              "    }\n",
              "    if (output.metadata[EXEC_MIME_TYPE][\"server_id\"] !== undefined) {\n",
              "      var bk_div = document.createElement(\"div\");\n",
              "      bk_div.innerHTML = output.data[HTML_MIME_TYPE];\n",
              "      var script_attrs = bk_div.children[0].attributes;\n",
              "      for (var i = 0; i < script_attrs.length; i++) {\n",
              "        toinsert[toinsert.length - 1].firstChild.setAttribute(script_attrs[i].name, script_attrs[i].value);\n",
              "        toinsert[toinsert.length - 1].firstChild.textContent = bk_div.children[0].textContent\n",
              "      }\n",
              "      // store reference to server id on output_area\n",
              "      output_area._bokeh_server_id = output.metadata[EXEC_MIME_TYPE][\"server_id\"];\n",
              "    }\n",
              "  }\n",
              "\n",
              "  function register_renderer(events, OutputArea) {\n",
              "\n",
              "    function append_mime(data, metadata, element) {\n",
              "      // create a DOM node to render to\n",
              "      var toinsert = this.create_output_subarea(\n",
              "        metadata,\n",
              "        CLASS_NAME,\n",
              "        EXEC_MIME_TYPE\n",
              "      );\n",
              "      this.keyboard_manager.register_events(toinsert);\n",
              "      // Render to node\n",
              "      var props = {data: data, metadata: metadata[EXEC_MIME_TYPE]};\n",
              "      render(props, toinsert[toinsert.length - 1]);\n",
              "      element.append(toinsert);\n",
              "      return toinsert\n",
              "    }\n",
              "\n",
              "    /* Handle when an output is cleared or removed */\n",
              "    events.on('clear_output.CodeCell', handleClearOutput);\n",
              "    events.on('delete.Cell', handleClearOutput);\n",
              "\n",
              "    /* Handle when a new output is added */\n",
              "    events.on('output_added.OutputArea', handleAddOutput);\n",
              "\n",
              "    /**\n",
              "     * Register the mime type and append_mime function with output_area\n",
              "     */\n",
              "    OutputArea.prototype.register_mime_type(EXEC_MIME_TYPE, append_mime, {\n",
              "      /* Is output safe? */\n",
              "      safe: true,\n",
              "      /* Index of renderer in `output_area.display_order` */\n",
              "      index: 0\n",
              "    });\n",
              "  }\n",
              "\n",
              "  // register the mime type if in Jupyter Notebook environment and previously unregistered\n",
              "  if (root.Jupyter !== undefined) {\n",
              "    var events = require('base/js/events');\n",
              "    var OutputArea = require('notebook/js/outputarea').OutputArea;\n",
              "\n",
              "    if (OutputArea.prototype.mime_types().indexOf(EXEC_MIME_TYPE) == -1) {\n",
              "      register_renderer(events, OutputArea);\n",
              "    }\n",
              "  }\n",
              "\n",
              "  \n",
              "  if (typeof (root._bokeh_timeout) === \"undefined\" || force === true) {\n",
              "    root._bokeh_timeout = Date.now() + 5000;\n",
              "    root._bokeh_failed_load = false;\n",
              "  }\n",
              "\n",
              "  var NB_LOAD_WARNING = {'data': {'text/html':\n",
              "     \"<div style='background-color: #fdd'>\\n\"+\n",
              "     \"<p>\\n\"+\n",
              "     \"BokehJS does not appear to have successfully loaded. If loading BokehJS from CDN, this \\n\"+\n",
              "     \"may be due to a slow or bad network connection. Possible fixes:\\n\"+\n",
              "     \"</p>\\n\"+\n",
              "     \"<ul>\\n\"+\n",
              "     \"<li>re-rerun `output_notebook()` to attempt to load from CDN again, or</li>\\n\"+\n",
              "     \"<li>use INLINE resources instead, as so:</li>\\n\"+\n",
              "     \"</ul>\\n\"+\n",
              "     \"<code>\\n\"+\n",
              "     \"from bokeh.resources import INLINE\\n\"+\n",
              "     \"output_notebook(resources=INLINE)\\n\"+\n",
              "     \"</code>\\n\"+\n",
              "     \"</div>\"}};\n",
              "\n",
              "  function display_loaded() {\n",
              "    var el = document.getElementById(null);\n",
              "    if (el != null) {\n",
              "      el.textContent = \"BokehJS is loading...\";\n",
              "    }\n",
              "    if (root.Bokeh !== undefined) {\n",
              "      if (el != null) {\n",
              "        el.textContent = \"BokehJS \" + root.Bokeh.version + \" successfully loaded.\";\n",
              "      }\n",
              "    } else if (Date.now() < root._bokeh_timeout) {\n",
              "      setTimeout(display_loaded, 100)\n",
              "    }\n",
              "  }\n",
              "\n",
              "\n",
              "  function run_callbacks() {\n",
              "    try {\n",
              "      root._bokeh_onload_callbacks.forEach(function(callback) {\n",
              "        if (callback != null)\n",
              "          callback();\n",
              "      });\n",
              "    } finally {\n",
              "      delete root._bokeh_onload_callbacks\n",
              "    }\n",
              "    console.debug(\"Bokeh: all callbacks have finished\");\n",
              "  }\n",
              "\n",
              "  function load_libs(css_urls, js_urls, callback) {\n",
              "    if (css_urls == null) css_urls = [];\n",
              "    if (js_urls == null) js_urls = [];\n",
              "\n",
              "    root._bokeh_onload_callbacks.push(callback);\n",
              "    if (root._bokeh_is_loading > 0) {\n",
              "      console.debug(\"Bokeh: BokehJS is being loaded, scheduling callback at\", now());\n",
              "      return null;\n",
              "    }\n",
              "    if (js_urls == null || js_urls.length === 0) {\n",
              "      run_callbacks();\n",
              "      return null;\n",
              "    }\n",
              "    console.debug(\"Bokeh: BokehJS not loaded, scheduling load and callback at\", now());\n",
              "    root._bokeh_is_loading = css_urls.length + js_urls.length;\n",
              "\n",
              "    function on_load() {\n",
              "      root._bokeh_is_loading--;\n",
              "      if (root._bokeh_is_loading === 0) {\n",
              "        console.debug(\"Bokeh: all BokehJS libraries/stylesheets loaded\");\n",
              "        run_callbacks()\n",
              "      }\n",
              "    }\n",
              "\n",
              "    function on_error(url) {\n",
              "      console.error(\"failed to load \" + url);\n",
              "    }\n",
              "\n",
              "    for (let i = 0; i < css_urls.length; i++) {\n",
              "      const url = css_urls[i];\n",
              "      const element = document.createElement(\"link\");\n",
              "      element.onload = on_load;\n",
              "      element.onerror = on_error.bind(null, url);\n",
              "      element.rel = \"stylesheet\";\n",
              "      element.type = \"text/css\";\n",
              "      element.href = url;\n",
              "      console.debug(\"Bokeh: injecting link tag for BokehJS stylesheet: \", url);\n",
              "      document.body.appendChild(element);\n",
              "    }\n",
              "\n",
              "    const hashes = {\"https://cdn.bokeh.org/bokeh/release/bokeh-2.3.3.min.js\": \"dM3QQsP+wXdHg42wTqW85BjZQdLNNIXqlPw/BgKoExPmTG7ZLML4EGqLMfqHT6ON\", \"https://cdn.bokeh.org/bokeh/release/bokeh-tables-2.3.3.min.js\": \"8x57I4YuIfu8XyZfFo0XVr2WAT8EK4rh/uDe3wF7YuW2FNUSNEpJbsPaB1nJ2fz2\", \"https://cdn.bokeh.org/bokeh/release/bokeh-widgets-2.3.3.min.js\": \"3QTqdz9LyAm2i0sG5XTePsHec3UHWwVsrOL68SYRoAXsafvfAyqtQ+h440+qIBhS\"};\n",
              "\n",
              "    for (let i = 0; i < js_urls.length; i++) {\n",
              "      const url = js_urls[i];\n",
              "      const element = document.createElement('script');\n",
              "      element.onload = on_load;\n",
              "      element.onerror = on_error.bind(null, url);\n",
              "      element.async = false;\n",
              "      element.src = url;\n",
              "      if (url in hashes) {\n",
              "        element.crossOrigin = \"anonymous\";\n",
              "        element.integrity = \"sha384-\" + hashes[url];\n",
              "      }\n",
              "      console.debug(\"Bokeh: injecting script tag for BokehJS library: \", url);\n",
              "      document.head.appendChild(element);\n",
              "    }\n",
              "  };\n",
              "\n",
              "  function inject_raw_css(css) {\n",
              "    const element = document.createElement(\"style\");\n",
              "    element.appendChild(document.createTextNode(css));\n",
              "    document.body.appendChild(element);\n",
              "  }\n",
              "\n",
              "  \n",
              "  var js_urls = [\"https://cdn.bokeh.org/bokeh/release/bokeh-2.3.3.min.js\", \"https://cdn.bokeh.org/bokeh/release/bokeh-widgets-2.3.3.min.js\", \"https://cdn.bokeh.org/bokeh/release/bokeh-tables-2.3.3.min.js\"];\n",
              "  var css_urls = [];\n",
              "  \n",
              "\n",
              "  var inline_js = [\n",
              "    function(Bokeh) {\n",
              "      Bokeh.set_log_level(\"info\");\n",
              "    },\n",
              "    function(Bokeh) {\n",
              "    \n",
              "    \n",
              "    }\n",
              "  ];\n",
              "\n",
              "  function run_inline_js() {\n",
              "    \n",
              "    if (root.Bokeh !== undefined || force === true) {\n",
              "      \n",
              "    for (var i = 0; i < inline_js.length; i++) {\n",
              "      inline_js[i].call(root, root.Bokeh);\n",
              "    }\n",
              "    } else if (Date.now() < root._bokeh_timeout) {\n",
              "      setTimeout(run_inline_js, 100);\n",
              "    } else if (!root._bokeh_failed_load) {\n",
              "      console.log(\"Bokeh: BokehJS failed to load within specified timeout.\");\n",
              "      root._bokeh_failed_load = true;\n",
              "    } else if (force !== true) {\n",
              "      var cell = $(document.getElementById(null)).parents('.cell').data().cell;\n",
              "      cell.output_area.append_execute_result(NB_LOAD_WARNING)\n",
              "    }\n",
              "\n",
              "  }\n",
              "\n",
              "  if (root._bokeh_is_loading === 0) {\n",
              "    console.debug(\"Bokeh: BokehJS loaded, going straight to plotting\");\n",
              "    run_inline_js();\n",
              "  } else {\n",
              "    load_libs(css_urls, js_urls, function() {\n",
              "      console.debug(\"Bokeh: BokehJS plotting callback run at\", now());\n",
              "      run_inline_js();\n",
              "    });\n",
              "  }\n",
              "}(window));"
            ],
            "application/vnd.bokehjs_load.v0+json": "\n(function(root) {\n  function now() {\n    return new Date();\n  }\n\n  var force = true;\n\n  if (typeof root._bokeh_onload_callbacks === \"undefined\" || force === true) {\n    root._bokeh_onload_callbacks = [];\n    root._bokeh_is_loading = undefined;\n  }\n\n  \n\n  \n  if (typeof (root._bokeh_timeout) === \"undefined\" || force === true) {\n    root._bokeh_timeout = Date.now() + 5000;\n    root._bokeh_failed_load = false;\n  }\n\n  var NB_LOAD_WARNING = {'data': {'text/html':\n     \"<div style='background-color: #fdd'>\\n\"+\n     \"<p>\\n\"+\n     \"BokehJS does not appear to have successfully loaded. If loading BokehJS from CDN, this \\n\"+\n     \"may be due to a slow or bad network connection. Possible fixes:\\n\"+\n     \"</p>\\n\"+\n     \"<ul>\\n\"+\n     \"<li>re-rerun `output_notebook()` to attempt to load from CDN again, or</li>\\n\"+\n     \"<li>use INLINE resources instead, as so:</li>\\n\"+\n     \"</ul>\\n\"+\n     \"<code>\\n\"+\n     \"from bokeh.resources import INLINE\\n\"+\n     \"output_notebook(resources=INLINE)\\n\"+\n     \"</code>\\n\"+\n     \"</div>\"}};\n\n  function display_loaded() {\n    var el = document.getElementById(null);\n    if (el != null) {\n      el.textContent = \"BokehJS is loading...\";\n    }\n    if (root.Bokeh !== undefined) {\n      if (el != null) {\n        el.textContent = \"BokehJS \" + root.Bokeh.version + \" successfully loaded.\";\n      }\n    } else if (Date.now() < root._bokeh_timeout) {\n      setTimeout(display_loaded, 100)\n    }\n  }\n\n\n  function run_callbacks() {\n    try {\n      root._bokeh_onload_callbacks.forEach(function(callback) {\n        if (callback != null)\n          callback();\n      });\n    } finally {\n      delete root._bokeh_onload_callbacks\n    }\n    console.debug(\"Bokeh: all callbacks have finished\");\n  }\n\n  function load_libs(css_urls, js_urls, callback) {\n    if (css_urls == null) css_urls = [];\n    if (js_urls == null) js_urls = [];\n\n    root._bokeh_onload_callbacks.push(callback);\n    if (root._bokeh_is_loading > 0) {\n      console.debug(\"Bokeh: BokehJS is being loaded, scheduling callback at\", now());\n      return null;\n    }\n    if (js_urls == null || js_urls.length === 0) {\n      run_callbacks();\n      return null;\n    }\n    console.debug(\"Bokeh: BokehJS not loaded, scheduling load and callback at\", now());\n    root._bokeh_is_loading = css_urls.length + js_urls.length;\n\n    function on_load() {\n      root._bokeh_is_loading--;\n      if (root._bokeh_is_loading === 0) {\n        console.debug(\"Bokeh: all BokehJS libraries/stylesheets loaded\");\n        run_callbacks()\n      }\n    }\n\n    function on_error(url) {\n      console.error(\"failed to load \" + url);\n    }\n\n    for (let i = 0; i < css_urls.length; i++) {\n      const url = css_urls[i];\n      const element = document.createElement(\"link\");\n      element.onload = on_load;\n      element.onerror = on_error.bind(null, url);\n      element.rel = \"stylesheet\";\n      element.type = \"text/css\";\n      element.href = url;\n      console.debug(\"Bokeh: injecting link tag for BokehJS stylesheet: \", url);\n      document.body.appendChild(element);\n    }\n\n    const hashes = {\"https://cdn.bokeh.org/bokeh/release/bokeh-2.3.3.min.js\": \"dM3QQsP+wXdHg42wTqW85BjZQdLNNIXqlPw/BgKoExPmTG7ZLML4EGqLMfqHT6ON\", \"https://cdn.bokeh.org/bokeh/release/bokeh-tables-2.3.3.min.js\": \"8x57I4YuIfu8XyZfFo0XVr2WAT8EK4rh/uDe3wF7YuW2FNUSNEpJbsPaB1nJ2fz2\", \"https://cdn.bokeh.org/bokeh/release/bokeh-widgets-2.3.3.min.js\": \"3QTqdz9LyAm2i0sG5XTePsHec3UHWwVsrOL68SYRoAXsafvfAyqtQ+h440+qIBhS\"};\n\n    for (let i = 0; i < js_urls.length; i++) {\n      const url = js_urls[i];\n      const element = document.createElement('script');\n      element.onload = on_load;\n      element.onerror = on_error.bind(null, url);\n      element.async = false;\n      element.src = url;\n      if (url in hashes) {\n        element.crossOrigin = \"anonymous\";\n        element.integrity = \"sha384-\" + hashes[url];\n      }\n      console.debug(\"Bokeh: injecting script tag for BokehJS library: \", url);\n      document.head.appendChild(element);\n    }\n  };\n\n  function inject_raw_css(css) {\n    const element = document.createElement(\"style\");\n    element.appendChild(document.createTextNode(css));\n    document.body.appendChild(element);\n  }\n\n  \n  var js_urls = [\"https://cdn.bokeh.org/bokeh/release/bokeh-2.3.3.min.js\", \"https://cdn.bokeh.org/bokeh/release/bokeh-widgets-2.3.3.min.js\", \"https://cdn.bokeh.org/bokeh/release/bokeh-tables-2.3.3.min.js\"];\n  var css_urls = [];\n  \n\n  var inline_js = [\n    function(Bokeh) {\n      Bokeh.set_log_level(\"info\");\n    },\n    function(Bokeh) {\n    \n    \n    }\n  ];\n\n  function run_inline_js() {\n    \n    if (root.Bokeh !== undefined || force === true) {\n      \n    for (var i = 0; i < inline_js.length; i++) {\n      inline_js[i].call(root, root.Bokeh);\n    }\n    } else if (Date.now() < root._bokeh_timeout) {\n      setTimeout(run_inline_js, 100);\n    } else if (!root._bokeh_failed_load) {\n      console.log(\"Bokeh: BokehJS failed to load within specified timeout.\");\n      root._bokeh_failed_load = true;\n    } else if (force !== true) {\n      var cell = $(document.getElementById(null)).parents('.cell').data().cell;\n      cell.output_area.append_execute_result(NB_LOAD_WARNING)\n    }\n\n  }\n\n  if (root._bokeh_is_loading === 0) {\n    console.debug(\"Bokeh: BokehJS loaded, going straight to plotting\");\n    run_inline_js();\n  } else {\n    load_libs(css_urls, js_urls, function() {\n      console.debug(\"Bokeh: BokehJS plotting callback run at\", now());\n      run_inline_js();\n    });\n  }\n}(window));"
          },
          "metadata": {}
        },
        {
          "output_type": "display_data",
          "data": {
            "text/html": [
              "\n",
              "\n",
              "\n",
              "\n",
              "\n",
              "\n",
              "  <div class=\"bk-root\" id=\"4f68677d-3cfe-4fd5-8c69-aecd7668eb79\" data-root-id=\"1038\"></div>\n"
            ]
          },
          "metadata": {}
        },
        {
          "output_type": "display_data",
          "data": {
            "application/javascript": [
              "(function(root) {\n",
              "  function embed_document(root) {\n",
              "    \n",
              "  var docs_json = {\"cff9b7eb-9418-487f-b7de-3e5f743c32ea\":{\"defs\":[],\"roots\":{\"references\":[{\"attributes\":{\"below\":[{\"id\":\"1049\"}],\"center\":[{\"id\":\"1052\"},{\"id\":\"1056\"},{\"id\":\"1088\"}],\"height\":400,\"left\":[{\"id\":\"1053\"}],\"output_backend\":\"webgl\",\"renderers\":[{\"id\":\"1077\"},{\"id\":\"1096\"},{\"id\":\"1114\"},{\"id\":\"1132\"}],\"sizing_mode\":\"fixed\",\"title\":{\"id\":\"1039\"},\"toolbar\":{\"id\":\"1064\"},\"x_range\":{\"id\":\"1041\"},\"x_scale\":{\"id\":\"1045\"},\"y_range\":{\"id\":\"1043\"},\"y_scale\":{\"id\":\"1047\"}},\"id\":\"1038\",\"subtype\":\"Figure\",\"type\":\"Plot\"},{\"attributes\":{},\"id\":\"1081\",\"type\":\"AllLabels\"},{\"attributes\":{\"fill_color\":{\"value\":\"#2ca02c\"},\"line_color\":{\"value\":\"#2ca02c\"},\"line_width\":{\"value\":2},\"top\":{\"field\":\"positive (%)\"},\"width\":{\"value\":0.14285714285714285},\"x\":{\"field\":\"__x__values\",\"transform\":{\"id\":\"1110\"}}},\"id\":\"1112\",\"type\":\"VBar\"},{\"attributes\":{},\"id\":\"1060\",\"type\":\"SaveTool\"},{\"attributes\":{\"callback\":null,\"mode\":\"vline\",\"renderers\":[{\"id\":\"1132\"}],\"tooltips\":[[\"Sentiment Score\",\"@__x__values_original\"],[\"mixed (%)\",\"@{mixed (%)}\"]]},\"id\":\"1144\",\"type\":\"HoverTool\"},{\"attributes\":{},\"id\":\"1043\",\"type\":\"DataRange1d\"},{\"attributes\":{},\"id\":\"1080\",\"type\":\"BasicTickFormatter\"},{\"attributes\":{\"data_source\":{\"id\":\"1037\"},\"glyph\":{\"id\":\"1075\"},\"hover_glyph\":null,\"muted_glyph\":null,\"nonselection_glyph\":{\"id\":\"1076\"},\"view\":{\"id\":\"1078\"}},\"id\":\"1077\",\"type\":\"GlyphRenderer\"},{\"attributes\":{},\"id\":\"1057\",\"type\":\"PanTool\"},{\"attributes\":{\"fill_color\":{\"value\":\"#1f77b4\"},\"line_color\":{\"value\":\"#1f77b4\"},\"line_width\":{\"value\":2},\"top\":{\"field\":\"negative (%)\"},\"width\":{\"value\":0.14285714285714285},\"x\":{\"field\":\"__x__values\",\"transform\":{\"id\":\"1073\"}}},\"id\":\"1075\",\"type\":\"VBar\"},{\"attributes\":{\"source\":{\"id\":\"1037\"}},\"id\":\"1097\",\"type\":\"CDSView\"},{\"attributes\":{\"fill_alpha\":{\"value\":0.1},\"fill_color\":{\"value\":\"#2ca02c\"},\"line_alpha\":{\"value\":0.1},\"line_color\":{\"value\":\"#2ca02c\"},\"line_width\":{\"value\":2},\"top\":{\"field\":\"positive (%)\"},\"width\":{\"value\":0.14285714285714285},\"x\":{\"field\":\"__x__values\",\"transform\":{\"id\":\"1110\"}}},\"id\":\"1113\",\"type\":\"VBar\"},{\"attributes\":{\"bottom_units\":\"screen\",\"fill_alpha\":0.5,\"fill_color\":\"lightgrey\",\"left_units\":\"screen\",\"level\":\"overlay\",\"line_alpha\":1.0,\"line_color\":\"black\",\"line_dash\":[4,4],\"line_width\":2,\"right_units\":\"screen\",\"syncable\":false,\"top_units\":\"screen\"},\"id\":\"1063\",\"type\":\"BoxAnnotation\"},{\"attributes\":{\"range\":{\"id\":\"1041\"},\"value\":0.08333333333333331},\"id\":\"1110\",\"type\":\"Dodge\"},{\"attributes\":{\"label\":{\"value\":\" positive (%)\"},\"renderers\":[{\"id\":\"1114\"}]},\"id\":\"1125\",\"type\":\"LegendItem\"},{\"attributes\":{},\"id\":\"1045\",\"type\":\"LinearScale\"},{\"attributes\":{\"text\":\"Sentiment score for track: Shake It Off\"},\"id\":\"1039\",\"type\":\"Title\"},{\"attributes\":{\"range\":{\"id\":\"1041\"},\"value\":-0.25},\"id\":\"1073\",\"type\":\"Dodge\"},{\"attributes\":{\"axis_label\":\"Sentiment Score\",\"formatter\":{\"id\":\"1071\"},\"major_label_policy\":{\"id\":\"1083\"},\"ticker\":{\"id\":\"1146\"}},\"id\":\"1049\",\"type\":\"LinearAxis\"},{\"attributes\":{},\"id\":\"1058\",\"type\":\"WheelZoomTool\"},{\"attributes\":{\"callback\":null,\"mode\":\"vline\",\"renderers\":[{\"id\":\"1114\"}],\"tooltips\":[[\"Sentiment Score\",\"@__x__values_original\"],[\"positive (%)\",\"@{positive (%)}\"]]},\"id\":\"1126\",\"type\":\"HoverTool\"},{\"attributes\":{\"fill_color\":{\"value\":\"#ff7f0e\"},\"line_color\":{\"value\":\"#ff7f0e\"},\"line_width\":{\"value\":2},\"top\":{\"field\":\"neutral (%)\"},\"width\":{\"value\":0.14285714285714285},\"x\":{\"field\":\"__x__values\",\"transform\":{\"id\":\"1092\"}}},\"id\":\"1094\",\"type\":\"VBar\"},{\"attributes\":{\"data_source\":{\"id\":\"1037\"},\"glyph\":{\"id\":\"1094\"},\"hover_glyph\":null,\"muted_glyph\":null,\"nonselection_glyph\":{\"id\":\"1095\"},\"view\":{\"id\":\"1097\"}},\"id\":\"1096\",\"type\":\"GlyphRenderer\"},{\"attributes\":{\"fill_alpha\":{\"value\":0.1},\"fill_color\":{\"value\":\"#1f77b4\"},\"line_alpha\":{\"value\":0.1},\"line_color\":{\"value\":\"#1f77b4\"},\"line_width\":{\"value\":2},\"top\":{\"field\":\"negative (%)\"},\"width\":{\"value\":0.14285714285714285},\"x\":{\"field\":\"__x__values\",\"transform\":{\"id\":\"1073\"}}},\"id\":\"1076\",\"type\":\"VBar\"},{\"attributes\":{\"callback\":null,\"mode\":\"vline\",\"renderers\":[{\"id\":\"1096\"}],\"tooltips\":[[\"Sentiment Score\",\"@__x__values_original\"],[\"neutral (%)\",\"@{neutral (%)}\"]]},\"id\":\"1108\",\"type\":\"HoverTool\"},{\"attributes\":{\"source\":{\"id\":\"1037\"}},\"id\":\"1078\",\"type\":\"CDSView\"},{\"attributes\":{\"label\":{\"value\":\" neutral (%)\"},\"renderers\":[{\"id\":\"1096\"}]},\"id\":\"1107\",\"type\":\"LegendItem\"},{\"attributes\":{\"formatter\":{\"id\":\"1080\"},\"major_label_policy\":{\"id\":\"1081\"},\"ticker\":{\"id\":\"1054\"}},\"id\":\"1053\",\"type\":\"LinearAxis\"},{\"attributes\":{\"ticks\":[0,1,2,3]},\"id\":\"1146\",\"type\":\"FixedTicker\"},{\"attributes\":{\"data_source\":{\"id\":\"1037\"},\"glyph\":{\"id\":\"1130\"},\"hover_glyph\":null,\"muted_glyph\":null,\"nonselection_glyph\":{\"id\":\"1131\"},\"view\":{\"id\":\"1133\"}},\"id\":\"1132\",\"type\":\"GlyphRenderer\"},{\"attributes\":{\"overlay\":{\"id\":\"1063\"}},\"id\":\"1059\",\"type\":\"BoxZoomTool\"},{\"attributes\":{},\"id\":\"1061\",\"type\":\"ResetTool\"},{\"attributes\":{\"label\":{\"value\":\" mixed (%)\"},\"renderers\":[{\"id\":\"1132\"}]},\"id\":\"1143\",\"type\":\"LegendItem\"},{\"attributes\":{\"click_policy\":\"hide\",\"items\":[{\"id\":\"1089\"},{\"id\":\"1107\"},{\"id\":\"1125\"},{\"id\":\"1143\"}]},\"id\":\"1088\",\"type\":\"Legend\"},{\"attributes\":{\"data\":{\"__x__values\":[0],\"__x__values_original\":[61],\"mixed (%)\":{\"__ndarray__\":\"QacNdNoINcA=\",\"dtype\":\"float64\",\"order\":\"little\",\"shape\":[1]},\"negative (%)\":{\"__ndarray__\":\"SURERETUO0A=\",\"dtype\":\"float64\",\"order\":\"little\",\"shape\":[1]},\"neutral (%)\":{\"__ndarray__\":\"Kn3SJ30OUEA=\",\"dtype\":\"float64\",\"order\":\"little\",\"shape\":[1]},\"positive (%)\":{\"__ndarray__\":\"chzHcRzHH0A=\",\"dtype\":\"float64\",\"order\":\"little\",\"shape\":[1]}},\"selected\":{\"id\":\"1086\"},\"selection_policy\":{\"id\":\"1087\"}},\"id\":\"1037\",\"type\":\"ColumnDataSource\"},{\"attributes\":{\"fill_alpha\":{\"value\":0.1},\"fill_color\":{\"value\":\"#d62728\"},\"line_alpha\":{\"value\":0.1},\"line_color\":{\"value\":\"#d62728\"},\"line_width\":{\"value\":2},\"top\":{\"field\":\"mixed (%)\"},\"width\":{\"value\":0.14285714285714285},\"x\":{\"field\":\"__x__values\",\"transform\":{\"id\":\"1128\"}}},\"id\":\"1131\",\"type\":\"VBar\"},{\"attributes\":{\"axis\":{\"id\":\"1053\"},\"dimension\":1,\"ticker\":null},\"id\":\"1056\",\"type\":\"Grid\"},{\"attributes\":{},\"id\":\"1083\",\"type\":\"AllLabels\"},{\"attributes\":{},\"id\":\"1062\",\"type\":\"HelpTool\"},{\"attributes\":{},\"id\":\"1054\",\"type\":\"BasicTicker\"},{\"attributes\":{\"source\":{\"id\":\"1037\"}},\"id\":\"1115\",\"type\":\"CDSView\"},{\"attributes\":{\"axis\":{\"id\":\"1049\"},\"ticker\":null},\"id\":\"1052\",\"type\":\"Grid\"},{\"attributes\":{\"callback\":null,\"mode\":\"vline\",\"renderers\":[{\"id\":\"1077\"}],\"tooltips\":[[\"Sentiment Score\",\"@__x__values_original\"],[\"negative (%)\",\"@{negative (%)}\"]]},\"id\":\"1090\",\"type\":\"HoverTool\"},{\"attributes\":{\"label\":{\"value\":\" negative (%)\"},\"renderers\":[{\"id\":\"1077\"}]},\"id\":\"1089\",\"type\":\"LegendItem\"},{\"attributes\":{\"range\":{\"id\":\"1041\"},\"value\":0.25},\"id\":\"1128\",\"type\":\"Dodge\"},{\"attributes\":{\"code\":\"\\n                                    var labels = {0: '61'};\\n                                    return labels[tick];\\n                                    \"},\"id\":\"1071\",\"type\":\"FuncTickFormatter\"},{\"attributes\":{},\"id\":\"1087\",\"type\":\"UnionRenderers\"},{\"attributes\":{},\"id\":\"1047\",\"type\":\"LinearScale\"},{\"attributes\":{},\"id\":\"1086\",\"type\":\"Selection\"},{\"attributes\":{\"range\":{\"id\":\"1041\"},\"value\":-0.08333333333333334},\"id\":\"1092\",\"type\":\"Dodge\"},{\"attributes\":{},\"id\":\"1041\",\"type\":\"DataRange1d\"},{\"attributes\":{\"source\":{\"id\":\"1037\"}},\"id\":\"1133\",\"type\":\"CDSView\"},{\"attributes\":{\"active_multi\":null,\"active_scroll\":{\"id\":\"1058\"},\"tools\":[{\"id\":\"1057\"},{\"id\":\"1058\"},{\"id\":\"1059\"},{\"id\":\"1060\"},{\"id\":\"1061\"},{\"id\":\"1062\"},{\"id\":\"1090\"},{\"id\":\"1108\"},{\"id\":\"1126\"},{\"id\":\"1144\"}]},\"id\":\"1064\",\"type\":\"Toolbar\"},{\"attributes\":{\"fill_alpha\":{\"value\":0.1},\"fill_color\":{\"value\":\"#ff7f0e\"},\"line_alpha\":{\"value\":0.1},\"line_color\":{\"value\":\"#ff7f0e\"},\"line_width\":{\"value\":2},\"top\":{\"field\":\"neutral (%)\"},\"width\":{\"value\":0.14285714285714285},\"x\":{\"field\":\"__x__values\",\"transform\":{\"id\":\"1092\"}}},\"id\":\"1095\",\"type\":\"VBar\"},{\"attributes\":{\"data_source\":{\"id\":\"1037\"},\"glyph\":{\"id\":\"1112\"},\"hover_glyph\":null,\"muted_glyph\":null,\"nonselection_glyph\":{\"id\":\"1113\"},\"view\":{\"id\":\"1115\"}},\"id\":\"1114\",\"type\":\"GlyphRenderer\"},{\"attributes\":{\"fill_color\":{\"value\":\"#d62728\"},\"line_color\":{\"value\":\"#d62728\"},\"line_width\":{\"value\":2},\"top\":{\"field\":\"mixed (%)\"},\"width\":{\"value\":0.14285714285714285},\"x\":{\"field\":\"__x__values\",\"transform\":{\"id\":\"1128\"}}},\"id\":\"1130\",\"type\":\"VBar\"}],\"root_ids\":[\"1038\"]},\"title\":\"Bokeh Application\",\"version\":\"2.3.3\"}};\n",
              "  var render_items = [{\"docid\":\"cff9b7eb-9418-487f-b7de-3e5f743c32ea\",\"root_ids\":[\"1038\"],\"roots\":{\"1038\":\"4f68677d-3cfe-4fd5-8c69-aecd7668eb79\"}}];\n",
              "  root.Bokeh.embed.embed_items_notebook(docs_json, render_items);\n",
              "\n",
              "  }\n",
              "  if (root.Bokeh !== undefined) {\n",
              "    embed_document(root);\n",
              "  } else {\n",
              "    var attempts = 0;\n",
              "    var timer = setInterval(function(root) {\n",
              "      if (root.Bokeh !== undefined) {\n",
              "        clearInterval(timer);\n",
              "        embed_document(root);\n",
              "      } else {\n",
              "        attempts++;\n",
              "        if (attempts > 100) {\n",
              "          clearInterval(timer);\n",
              "          console.log(\"Bokeh: ERROR: Unable to run BokehJS code because BokehJS library is missing\");\n",
              "        }\n",
              "      }\n",
              "    }, 10, root)\n",
              "  }\n",
              "})(window);"
            ],
            "application/vnd.bokehjs_exec.v0+json": ""
          },
          "metadata": {
            "application/vnd.bokehjs_exec.v0+json": {
              "id": "1038"
            }
          }
        }
      ]
    },
    {
      "cell_type": "code",
      "source": [
        "neg_sentiments = grouped[grouped['track_title'].isin(full_catalog['1989'])]['negative (%)']"
      ],
      "metadata": {
        "id": "Ug5h_FoY8sy7"
      },
      "execution_count": null,
      "outputs": []
    },
    {
      "cell_type": "code",
      "source": [
        "neg_sentiments"
      ],
      "metadata": {
        "colab": {
          "base_uri": "https://localhost:8080/"
        },
        "id": "ypqvInCx8wUS",
        "outputId": "3349ad4f-2ea7-4ccd-f90e-e7a177bdb241"
      },
      "execution_count": null,
      "outputs": [
        {
          "output_type": "execute_result",
          "data": {
            "text/plain": [
              "5      1.872857\n",
              "7     18.220000\n",
              "10    13.939759\n",
              "14     7.611429\n",
              "34     5.652830\n",
              "38     5.113636\n",
              "39     3.675904\n",
              "53     9.138596\n",
              "57     1.554286\n",
              "61    27.829167\n",
              "70     0.875000\n",
              "82     6.943243\n",
              "87     0.704615\n",
              "89     3.522414\n",
              "90     7.449254\n",
              "91     3.302222\n",
              "Name: negative (%), dtype: float64"
            ]
          },
          "metadata": {},
          "execution_count": 62
        }
      ]
    },
    {
      "cell_type": "code",
      "source": [
        "pos_sentiments = grouped[grouped['track_title'].isin(full_catalog['1989'])]['positive (%)']"
      ],
      "metadata": {
        "id": "LuTGpU7M8zfg"
      },
      "execution_count": null,
      "outputs": []
    },
    {
      "cell_type": "code",
      "source": [
        "pos_sentiments"
      ],
      "metadata": {
        "colab": {
          "base_uri": "https://localhost:8080/"
        },
        "id": "iBbTt44f837l",
        "outputId": "6041cbc4-4f9a-4a6b-bdf3-c9c398054a1e"
      },
      "execution_count": null,
      "outputs": [
        {
          "output_type": "execute_result",
          "data": {
            "text/plain": [
              "5     10.715714\n",
              "7      8.030000\n",
              "10    11.821687\n",
              "14    11.571429\n",
              "34     6.535849\n",
              "38     6.568182\n",
              "39    32.431325\n",
              "53    22.342105\n",
              "57    12.715714\n",
              "61     7.944444\n",
              "70     6.140909\n",
              "82    26.070270\n",
              "87    28.212308\n",
              "89    12.663793\n",
              "90     4.071642\n",
              "91    18.028889\n",
              "Name: positive (%), dtype: float64"
            ]
          },
          "metadata": {},
          "execution_count": 64
        }
      ]
    },
    {
      "cell_type": "code",
      "source": [
        "fig, ax = plt.subplots(figsize=(15, 10))\n",
        "ax.barh(np.arange(len(neg_sentiments)),\n",
        "        -neg_sentiments,\n",
        "        facecolor='red', alpha=0.7,\n",
        "        edgecolor='black',\n",
        "        label='negative')\n",
        "ax.barh(np.arange(len(pos_sentiments)),\n",
        "        pos_sentiments,\n",
        "        facecolor='green', alpha=0.7,\n",
        "        edgecolor='black',\n",
        "        label='positive')\n",
        "\n",
        "ax.set_yticks(np.arange(len(pos_sentiments)))\n",
        "ax.set_yticklabels(full_catalog['1989'], \n",
        "                   fontsize=12)\n",
        "ax.set_ylabel('Track Title', fontsize=18)\n",
        "ax.set_xlabel('Negative - Positive Sentiment (%)',\n",
        "              fontsize=18)\n",
        "\n",
        "ax.set_title('Average Sentiment Scores for Taylor Swift Album: 1989',\n",
        "             fontsize=25)\n",
        "ax.legend(loc='best')\n",
        "plt.show()"
      ],
      "metadata": {
        "colab": {
          "base_uri": "https://localhost:8080/",
          "height": 639
        },
        "id": "C7ZlSMvF8-zr",
        "outputId": "b324baf7-6701-4b11-ab89-d7a6897992a1"
      },
      "execution_count": null,
      "outputs": [
        {
          "output_type": "display_data",
          "data": {
            "image/png": "[encoded data removed]",
            "text/plain": [
              "<Figure size 1080x720 with 1 Axes>"
            ]
          },
          "metadata": {
            "needs_background": "light"
          }
        }
      ]
    },
    {
      "cell_type": "code",
      "source": [
        "#Create lists to store the different scores for each word\n",
        "negative = []\n",
        "neutral = []\n",
        "positive = []\n",
        "compound = []\n",
        "#Initialize the model\n",
        "sid = SentimentIntensityAnalyzer()\n",
        "#Iterate for each row of lyrics and append the scores\n",
        "for i in lyrics_df.index:\n",
        "    scores = sid.polarity_scores(lyrics_df['lyric'].iloc[i])\n",
        "    negative.append(scores['neg'])\n",
        "    neutral.append(scores['neu'])\n",
        "    positive.append(scores['pos'])\n",
        "    compound.append(scores['compound'])\n",
        "#Create 4 columns to the main data frame  for each score\n",
        "lyrics_df['negative'] = negative\n",
        "lyrics_df['neutral'] = neutral\n",
        "lyrics_df['positive'] = positive\n",
        "lyrics_df['compound'] = compound\n",
        "lyrics_df.head()"
      ],
      "metadata": {
        "id": "aFxtkfvLbpcu",
        "outputId": "7e31b4e5-5324-4644-c267-a671b8015625",
        "colab": {
          "base_uri": "https://localhost:8080/",
          "height": 206
        }
      },
      "execution_count": 60,
      "outputs": [
        {
          "output_type": "execute_result",
          "data": {
            "text/html": [
              "\n",
              "  <div id=\"df-3b1e3aa7-7d98-433f-b40c-9879f84e40cc\">\n",
              "    <div class=\"colab-df-container\">\n",
              "      <div>\n",
              "<style scoped>\n",
              "    .dataframe tbody tr th:only-of-type {\n",
              "        vertical-align: middle;\n",
              "    }\n",
              "\n",
              "    .dataframe tbody tr th {\n",
              "        vertical-align: top;\n",
              "    }\n",
              "\n",
              "    .dataframe thead th {\n",
              "        text-align: right;\n",
              "    }\n",
              "</style>\n",
              "<table border=\"1\" class=\"dataframe\">\n",
              "  <thead>\n",
              "    <tr style=\"text-align: right;\">\n",
              "      <th></th>\n",
              "      <th>artist</th>\n",
              "      <th>album</th>\n",
              "      <th>track_title</th>\n",
              "      <th>track_n</th>\n",
              "      <th>lyric</th>\n",
              "      <th>line</th>\n",
              "      <th>year</th>\n",
              "      <th>sentiment_score</th>\n",
              "      <th>negative (%)</th>\n",
              "      <th>neutral (%)</th>\n",
              "      <th>positive (%)</th>\n",
              "      <th>mixed (%)</th>\n",
              "      <th>negative</th>\n",
              "      <th>neutral</th>\n",
              "      <th>positive</th>\n",
              "      <th>compound</th>\n",
              "    </tr>\n",
              "  </thead>\n",
              "  <tbody>\n",
              "    <tr>\n",
              "      <th>0</th>\n",
              "      <td>Taylor Swift</td>\n",
              "      <td>Taylor Swift</td>\n",
              "      <td>Tim McGraw</td>\n",
              "      <td>1</td>\n",
              "      <td>He said the way my blue ey...</td>\n",
              "      <td>1</td>\n",
              "      <td>2006</td>\n",
              "      <td>{'neg': 0.0, 'neu': 1.0, '...</td>\n",
              "      <td>0.0</td>\n",
              "      <td>100.0</td>\n",
              "      <td>0.0</td>\n",
              "      <td>0.00</td>\n",
              "      <td>0.000</td>\n",
              "      <td>1.000</td>\n",
              "      <td>0.0</td>\n",
              "      <td>0.0000</td>\n",
              "    </tr>\n",
              "    <tr>\n",
              "      <th>1</th>\n",
              "      <td>Taylor Swift</td>\n",
              "      <td>Taylor Swift</td>\n",
              "      <td>Tim McGraw</td>\n",
              "      <td>1</td>\n",
              "      <td>Put those Georgia stars to...</td>\n",
              "      <td>2</td>\n",
              "      <td>2006</td>\n",
              "      <td>{'neg': 0.307, 'neu': 0.69...</td>\n",
              "      <td>30.7</td>\n",
              "      <td>69.3</td>\n",
              "      <td>0.0</td>\n",
              "      <td>-47.67</td>\n",
              "      <td>0.307</td>\n",
              "      <td>0.693</td>\n",
              "      <td>0.0</td>\n",
              "      <td>-0.4767</td>\n",
              "    </tr>\n",
              "    <tr>\n",
              "      <th>2</th>\n",
              "      <td>Taylor Swift</td>\n",
              "      <td>Taylor Swift</td>\n",
              "      <td>Tim McGraw</td>\n",
              "      <td>1</td>\n",
              "      <td>I said, \"That's a lie\"</td>\n",
              "      <td>3</td>\n",
              "      <td>2006</td>\n",
              "      <td>{'neg': 0.0, 'neu': 1.0, '...</td>\n",
              "      <td>0.0</td>\n",
              "      <td>100.0</td>\n",
              "      <td>0.0</td>\n",
              "      <td>0.00</td>\n",
              "      <td>0.000</td>\n",
              "      <td>1.000</td>\n",
              "      <td>0.0</td>\n",
              "      <td>0.0000</td>\n",
              "    </tr>\n",
              "    <tr>\n",
              "      <th>3</th>\n",
              "      <td>Taylor Swift</td>\n",
              "      <td>Taylor Swift</td>\n",
              "      <td>Tim McGraw</td>\n",
              "      <td>1</td>\n",
              "      <td>Just a boy in a Chevy truck</td>\n",
              "      <td>4</td>\n",
              "      <td>2006</td>\n",
              "      <td>{'neg': 0.0, 'neu': 1.0, '...</td>\n",
              "      <td>0.0</td>\n",
              "      <td>100.0</td>\n",
              "      <td>0.0</td>\n",
              "      <td>0.00</td>\n",
              "      <td>0.000</td>\n",
              "      <td>1.000</td>\n",
              "      <td>0.0</td>\n",
              "      <td>0.0000</td>\n",
              "    </tr>\n",
              "    <tr>\n",
              "      <th>4</th>\n",
              "      <td>Taylor Swift</td>\n",
              "      <td>Taylor Swift</td>\n",
              "      <td>Tim McGraw</td>\n",
              "      <td>1</td>\n",
              "      <td>That had a tendency of get...</td>\n",
              "      <td>5</td>\n",
              "      <td>2006</td>\n",
              "      <td>{'neg': 0.286, 'neu': 0.71...</td>\n",
              "      <td>28.6</td>\n",
              "      <td>71.4</td>\n",
              "      <td>0.0</td>\n",
              "      <td>-25.00</td>\n",
              "      <td>0.286</td>\n",
              "      <td>0.714</td>\n",
              "      <td>0.0</td>\n",
              "      <td>-0.2500</td>\n",
              "    </tr>\n",
              "  </tbody>\n",
              "</table>\n",
              "</div>\n",
              "      <button class=\"colab-df-convert\" onclick=\"convertToInteractive('df-3b1e3aa7-7d98-433f-b40c-9879f84e40cc')\"\n",
              "              title=\"Convert this dataframe to an interactive table.\"\n",
              "              style=\"display:none;\">\n",
              "        \n",
              "  <svg xmlns=\"http://www.w3.org/2000/svg\" height=\"24px\"viewBox=\"0 0 24 24\"\n",
              "       width=\"24px\">\n",
              "    <path d=\"M0 0h24v24H0V0z\" fill=\"none\"/>\n",
              "    <path d=\"M18.56 5.44l.94 2.06.94-2.06 2.06-.94-2.06-.94-.94-2.06-.94 2.06-2.06.94zm-11 1L8.5 8.5l.94-2.06 2.06-.94-2.06-.94L8.5 2.5l-.94 2.06-2.06.94zm10 10l.94 2.06.94-2.06 2.06-.94-2.06-.94-.94-2.06-.94 2.06-2.06.94z\"/><path d=\"M17.41 7.96l-1.37-1.37c-.4-.4-.92-.59-1.43-.59-.52 0-1.04.2-1.43.59L10.3 9.45l-7.72 7.72c-.78.78-.78 2.05 0 2.83L4 21.41c.39.39.9.59 1.41.59.51 0 1.02-.2 1.41-.59l7.78-7.78 2.81-2.81c.8-.78.8-2.07 0-2.86zM5.41 20L4 18.59l7.72-7.72 1.47 1.35L5.41 20z\"/>\n",
              "  </svg>\n",
              "      </button>\n",
              "      \n",
              "  <style>\n",
              "    .colab-df-container {\n",
              "      display:flex;\n",
              "      flex-wrap:wrap;\n",
              "      gap: 12px;\n",
              "    }\n",
              "\n",
              "    .colab-df-convert {\n",
              "      background-color: #E8F0FE;\n",
              "      border: none;\n",
              "      border-radius: 50%;\n",
              "      cursor: pointer;\n",
              "      display: none;\n",
              "      fill: #1967D2;\n",
              "      height: 32px;\n",
              "      padding: 0 0 0 0;\n",
              "      width: 32px;\n",
              "    }\n",
              "\n",
              "    .colab-df-convert:hover {\n",
              "      background-color: #E2EBFA;\n",
              "      box-shadow: 0px 1px 2px rgba(60, 64, 67, 0.3), 0px 1px 3px 1px rgba(60, 64, 67, 0.15);\n",
              "      fill: #174EA6;\n",
              "    }\n",
              "\n",
              "    [theme=dark] .colab-df-convert {\n",
              "      background-color: #3B4455;\n",
              "      fill: #D2E3FC;\n",
              "    }\n",
              "\n",
              "    [theme=dark] .colab-df-convert:hover {\n",
              "      background-color: #434B5C;\n",
              "      box-shadow: 0px 1px 3px 1px rgba(0, 0, 0, 0.15);\n",
              "      filter: drop-shadow(0px 1px 2px rgba(0, 0, 0, 0.3));\n",
              "      fill: #FFFFFF;\n",
              "    }\n",
              "  </style>\n",
              "\n",
              "      <script>\n",
              "        const buttonEl =\n",
              "          document.querySelector('#df-3b1e3aa7-7d98-433f-b40c-9879f84e40cc button.colab-df-convert');\n",
              "        buttonEl.style.display =\n",
              "          google.colab.kernel.accessAllowed ? 'block' : 'none';\n",
              "\n",
              "        async function convertToInteractive(key) {\n",
              "          const element = document.querySelector('#df-3b1e3aa7-7d98-433f-b40c-9879f84e40cc');\n",
              "          const dataTable =\n",
              "            await google.colab.kernel.invokeFunction('convertToInteractive',\n",
              "                                                     [key], {});\n",
              "          if (!dataTable) return;\n",
              "\n",
              "          const docLinkHtml = 'Like what you see? Visit the ' +\n",
              "            '<a target=\"_blank\" href=https://colab.research.google.com/notebooks/data_table.ipynb>data table notebook</a>'\n",
              "            + ' to learn more about interactive tables.';\n",
              "          element.innerHTML = '';\n",
              "          dataTable['output_type'] = 'display_data';\n",
              "          await google.colab.output.renderOutput(dataTable, element);\n",
              "          const docLink = document.createElement('div');\n",
              "          docLink.innerHTML = docLinkHtml;\n",
              "          element.appendChild(docLink);\n",
              "        }\n",
              "      </script>\n",
              "    </div>\n",
              "  </div>\n",
              "  "
            ],
            "text/plain": [
              "         artist         album track_title  ...  neutral positive  compound\n",
              "0  Taylor Swift  Taylor Swift  Tim McGraw  ...    1.000      0.0    0.0000\n",
              "1  Taylor Swift  Taylor Swift  Tim McGraw  ...    0.693      0.0   -0.4767\n",
              "2  Taylor Swift  Taylor Swift  Tim McGraw  ...    1.000      0.0    0.0000\n",
              "3  Taylor Swift  Taylor Swift  Tim McGraw  ...    1.000      0.0    0.0000\n",
              "4  Taylor Swift  Taylor Swift  Tim McGraw  ...    0.714      0.0   -0.2500\n",
              "\n",
              "[5 rows x 16 columns]"
            ]
          },
          "metadata": {},
          "execution_count": 60
        }
      ]
    },
    {
      "cell_type": "code",
      "source": [
        "for name, group in lyrics_df.groupby('year'):\n",
        "    plt.scatter(group['positive'],group['negative'],label=name)\n",
        "    plt.legend(fontsize=10)\n",
        "plt.xlim([-0.05,0.7])\n",
        "plt.ylim([-0.05,0.7])\n",
        "plt.title(\"Lyrics Sentiments by Decade\")\n",
        "plt.xlabel('Positive Valence')\n",
        "plt.ylabel('Negative  Valence')\n",
        "plt.show()"
      ],
      "metadata": {
        "id": "jCyhGYVgdi1Y",
        "outputId": "7dc65f11-37e3-4a5b-8255-f802aea4b01f",
        "colab": {
          "base_uri": "https://localhost:8080/",
          "height": 295
        }
      },
      "execution_count": 63,
      "outputs": [
        {
          "output_type": "display_data",
          "data": {
            "image/png": "[encoded data removed]",
            "text/plain": [
              "<Figure size 432x288 with 1 Axes>"
            ]
          },
          "metadata": {
            "needs_background": "light"
          }
        }
      ]
    },
    {
      "cell_type": "code",
      "source": [
        "means_df = lyrics_df.groupby(['year']).mean()\n",
        "means_df"
      ],
      "metadata": {
        "id": "MS2BTTU6d1kf",
        "outputId": "11df3d3b-a564-4a19-8044-178c7f6137a9",
        "colab": {
          "base_uri": "https://localhost:8080/",
          "height": 268
        }
      },
      "execution_count": 64,
      "outputs": [
        {
          "output_type": "execute_result",
          "data": {
            "text/html": [
              "\n",
              "  <div id=\"df-e69ae08e-0ce2-47f1-ab6e-f915386406f8\">\n",
              "    <div class=\"colab-df-container\">\n",
              "      <div>\n",
              "<style scoped>\n",
              "    .dataframe tbody tr th:only-of-type {\n",
              "        vertical-align: middle;\n",
              "    }\n",
              "\n",
              "    .dataframe tbody tr th {\n",
              "        vertical-align: top;\n",
              "    }\n",
              "\n",
              "    .dataframe thead th {\n",
              "        text-align: right;\n",
              "    }\n",
              "</style>\n",
              "<table border=\"1\" class=\"dataframe\">\n",
              "  <thead>\n",
              "    <tr style=\"text-align: right;\">\n",
              "      <th></th>\n",
              "      <th>track_n</th>\n",
              "      <th>line</th>\n",
              "      <th>negative (%)</th>\n",
              "      <th>neutral (%)</th>\n",
              "      <th>positive (%)</th>\n",
              "      <th>mixed (%)</th>\n",
              "      <th>negative</th>\n",
              "      <th>neutral</th>\n",
              "      <th>positive</th>\n",
              "      <th>compound</th>\n",
              "    </tr>\n",
              "    <tr>\n",
              "      <th>year</th>\n",
              "      <th></th>\n",
              "      <th></th>\n",
              "      <th></th>\n",
              "      <th></th>\n",
              "      <th></th>\n",
              "      <th></th>\n",
              "      <th></th>\n",
              "      <th></th>\n",
              "      <th></th>\n",
              "      <th></th>\n",
              "    </tr>\n",
              "  </thead>\n",
              "  <tbody>\n",
              "    <tr>\n",
              "      <th>2006</th>\n",
              "      <td>7.359788</td>\n",
              "      <td>22.128748</td>\n",
              "      <td>6.871429</td>\n",
              "      <td>81.421693</td>\n",
              "      <td>11.706702</td>\n",
              "      <td>5.461217</td>\n",
              "      <td>0.068714</td>\n",
              "      <td>0.814217</td>\n",
              "      <td>0.117067</td>\n",
              "      <td>0.054612</td>\n",
              "    </tr>\n",
              "    <tr>\n",
              "      <th>2008</th>\n",
              "      <td>6.730838</td>\n",
              "      <td>22.442068</td>\n",
              "      <td>6.946702</td>\n",
              "      <td>80.190196</td>\n",
              "      <td>12.863280</td>\n",
              "      <td>8.308396</td>\n",
              "      <td>0.069467</td>\n",
              "      <td>0.801902</td>\n",
              "      <td>0.128633</td>\n",
              "      <td>0.083084</td>\n",
              "    </tr>\n",
              "    <tr>\n",
              "      <th>2010</th>\n",
              "      <td>8.926882</td>\n",
              "      <td>28.620430</td>\n",
              "      <td>6.216237</td>\n",
              "      <td>83.474839</td>\n",
              "      <td>10.309032</td>\n",
              "      <td>4.519925</td>\n",
              "      <td>0.062162</td>\n",
              "      <td>0.834748</td>\n",
              "      <td>0.103090</td>\n",
              "      <td>0.045199</td>\n",
              "    </tr>\n",
              "    <tr>\n",
              "      <th>2012</th>\n",
              "      <td>10.003550</td>\n",
              "      <td>24.074556</td>\n",
              "      <td>6.636923</td>\n",
              "      <td>80.410888</td>\n",
              "      <td>12.952899</td>\n",
              "      <td>8.939941</td>\n",
              "      <td>0.066369</td>\n",
              "      <td>0.804109</td>\n",
              "      <td>0.129529</td>\n",
              "      <td>0.089399</td>\n",
              "    </tr>\n",
              "    <tr>\n",
              "      <th>2014</th>\n",
              "      <td>7.904512</td>\n",
              "      <td>32.131165</td>\n",
              "      <td>7.855404</td>\n",
              "      <td>77.823610</td>\n",
              "      <td>14.321511</td>\n",
              "      <td>7.238919</td>\n",
              "      <td>0.078554</td>\n",
              "      <td>0.778236</td>\n",
              "      <td>0.143215</td>\n",
              "      <td>0.072389</td>\n",
              "    </tr>\n",
              "    <tr>\n",
              "      <th>2017</th>\n",
              "      <td>7.667992</td>\n",
              "      <td>35.280318</td>\n",
              "      <td>6.353380</td>\n",
              "      <td>82.338171</td>\n",
              "      <td>11.308151</td>\n",
              "      <td>5.350308</td>\n",
              "      <td>0.063534</td>\n",
              "      <td>0.823382</td>\n",
              "      <td>0.113082</td>\n",
              "      <td>0.053503</td>\n",
              "    </tr>\n",
              "  </tbody>\n",
              "</table>\n",
              "</div>\n",
              "      <button class=\"colab-df-convert\" onclick=\"convertToInteractive('df-e69ae08e-0ce2-47f1-ab6e-f915386406f8')\"\n",
              "              title=\"Convert this dataframe to an interactive table.\"\n",
              "              style=\"display:none;\">\n",
              "        \n",
              "  <svg xmlns=\"http://www.w3.org/2000/svg\" height=\"24px\"viewBox=\"0 0 24 24\"\n",
              "       width=\"24px\">\n",
              "    <path d=\"M0 0h24v24H0V0z\" fill=\"none\"/>\n",
              "    <path d=\"M18.56 5.44l.94 2.06.94-2.06 2.06-.94-2.06-.94-.94-2.06-.94 2.06-2.06.94zm-11 1L8.5 8.5l.94-2.06 2.06-.94-2.06-.94L8.5 2.5l-.94 2.06-2.06.94zm10 10l.94 2.06.94-2.06 2.06-.94-2.06-.94-.94-2.06-.94 2.06-2.06.94z\"/><path d=\"M17.41 7.96l-1.37-1.37c-.4-.4-.92-.59-1.43-.59-.52 0-1.04.2-1.43.59L10.3 9.45l-7.72 7.72c-.78.78-.78 2.05 0 2.83L4 21.41c.39.39.9.59 1.41.59.51 0 1.02-.2 1.41-.59l7.78-7.78 2.81-2.81c.8-.78.8-2.07 0-2.86zM5.41 20L4 18.59l7.72-7.72 1.47 1.35L5.41 20z\"/>\n",
              "  </svg>\n",
              "      </button>\n",
              "      \n",
              "  <style>\n",
              "    .colab-df-container {\n",
              "      display:flex;\n",
              "      flex-wrap:wrap;\n",
              "      gap: 12px;\n",
              "    }\n",
              "\n",
              "    .colab-df-convert {\n",
              "      background-color: #E8F0FE;\n",
              "      border: none;\n",
              "      border-radius: 50%;\n",
              "      cursor: pointer;\n",
              "      display: none;\n",
              "      fill: #1967D2;\n",
              "      height: 32px;\n",
              "      padding: 0 0 0 0;\n",
              "      width: 32px;\n",
              "    }\n",
              "\n",
              "    .colab-df-convert:hover {\n",
              "      background-color: #E2EBFA;\n",
              "      box-shadow: 0px 1px 2px rgba(60, 64, 67, 0.3), 0px 1px 3px 1px rgba(60, 64, 67, 0.15);\n",
              "      fill: #174EA6;\n",
              "    }\n",
              "\n",
              "    [theme=dark] .colab-df-convert {\n",
              "      background-color: #3B4455;\n",
              "      fill: #D2E3FC;\n",
              "    }\n",
              "\n",
              "    [theme=dark] .colab-df-convert:hover {\n",
              "      background-color: #434B5C;\n",
              "      box-shadow: 0px 1px 3px 1px rgba(0, 0, 0, 0.15);\n",
              "      filter: drop-shadow(0px 1px 2px rgba(0, 0, 0, 0.3));\n",
              "      fill: #FFFFFF;\n",
              "    }\n",
              "  </style>\n",
              "\n",
              "      <script>\n",
              "        const buttonEl =\n",
              "          document.querySelector('#df-e69ae08e-0ce2-47f1-ab6e-f915386406f8 button.colab-df-convert');\n",
              "        buttonEl.style.display =\n",
              "          google.colab.kernel.accessAllowed ? 'block' : 'none';\n",
              "\n",
              "        async function convertToInteractive(key) {\n",
              "          const element = document.querySelector('#df-e69ae08e-0ce2-47f1-ab6e-f915386406f8');\n",
              "          const dataTable =\n",
              "            await google.colab.kernel.invokeFunction('convertToInteractive',\n",
              "                                                     [key], {});\n",
              "          if (!dataTable) return;\n",
              "\n",
              "          const docLinkHtml = 'Like what you see? Visit the ' +\n",
              "            '<a target=\"_blank\" href=https://colab.research.google.com/notebooks/data_table.ipynb>data table notebook</a>'\n",
              "            + ' to learn more about interactive tables.';\n",
              "          element.innerHTML = '';\n",
              "          dataTable['output_type'] = 'display_data';\n",
              "          await google.colab.output.renderOutput(dataTable, element);\n",
              "          const docLink = document.createElement('div');\n",
              "          docLink.innerHTML = docLinkHtml;\n",
              "          element.appendChild(docLink);\n",
              "        }\n",
              "      </script>\n",
              "    </div>\n",
              "  </div>\n",
              "  "
            ],
            "text/plain": [
              "        track_n       line  negative (%)  ...   neutral  positive  compound\n",
              "year                                      ...                              \n",
              "2006   7.359788  22.128748      6.871429  ...  0.814217  0.117067  0.054612\n",
              "2008   6.730838  22.442068      6.946702  ...  0.801902  0.128633  0.083084\n",
              "2010   8.926882  28.620430      6.216237  ...  0.834748  0.103090  0.045199\n",
              "2012  10.003550  24.074556      6.636923  ...  0.804109  0.129529  0.089399\n",
              "2014   7.904512  32.131165      7.855404  ...  0.778236  0.143215  0.072389\n",
              "2017   7.667992  35.280318      6.353380  ...  0.823382  0.113082  0.053503\n",
              "\n",
              "[6 rows x 10 columns]"
            ]
          },
          "metadata": {},
          "execution_count": 64
        }
      ]
    },
    {
      "cell_type": "code",
      "source": [
        "for name, group in means_df.groupby('year'):\n",
        "    plt.scatter(group['positive'],group['negative'],label=name)\n",
        "    plt.legend()\n",
        "plt.xlim([-0.05,0.7])\n",
        "plt.ylim([-0.05,0.7])\n",
        "plt.title(\"Lyrics Sentiments by year\")\n",
        "plt.xlabel('Positive Valence')\n",
        "plt.ylabel('Negative  Valence')\n",
        "plt.show()"
      ],
      "metadata": {
        "id": "vrqt8914eIaK",
        "outputId": "94668571-1f6a-4da8-dc2e-4931877c09e8",
        "colab": {
          "base_uri": "https://localhost:8080/",
          "height": 295
        }
      },
      "execution_count": 65,
      "outputs": [
        {
          "output_type": "display_data",
          "data": {
            "image/png": "[encoded data removed]",
            "text/plain": [
              "<Figure size 432x288 with 1 Axes>"
            ]
          },
          "metadata": {
            "needs_background": "light"
          }
        }
      ]
    },
    {
      "cell_type": "code",
      "source": [
        "for name, group in means_df.groupby('year'):\n",
        "    print(sum(group['positive']),'positive')\n",
        "    print(sum(group['negative']),'negative')"
      ],
      "metadata": {
        "id": "NwcS2g9BgIeP",
        "outputId": "2a07049d-df0e-457c-ee80-4b6d66ff58e6",
        "colab": {
          "base_uri": "https://localhost:8080/"
        }
      },
      "execution_count": 79,
      "outputs": [
        {
          "output_type": "stream",
          "name": "stdout",
          "text": [
            "0.11706701940035275 positive\n",
            "0.06871428571428574 negative\n",
            "0.12863279857397503 positive\n",
            "0.0694670231729055 negative\n",
            "0.10309032258064506 positive\n",
            "0.062162365591397886 negative\n",
            "0.12952899408284027 positive\n",
            "0.06636923076923076 negative\n",
            "0.14321511017838415 positive\n",
            "0.07855403987408179 negative\n",
            "0.11308151093439384 positive\n",
            "0.06353379721669973 negative\n"
          ]
        }
      ]
    },
    {
      "cell_type": "code",
      "source": [
        "for name, group in lyrics_df.groupby('year'):\n",
        "    plt.scatter(group['positive'],group['negative'],label=name)\n",
        "    plt.legend(fontsize=10)\n",
        "plt.xlim([-0.05,0.7])\n",
        "plt.ylim([-0.05,0.7])\n",
        "plt.title(\"Lyrics Sentiments by Decade\")\n",
        "plt.xlabel('Positive Valence')\n",
        "plt.ylabel('Negative  Valence')\n",
        "plt.show()"
      ],
      "metadata": {
        "id": "8Bj-mmdPeWAP",
        "outputId": "f5368b4e-9658-407f-b9df-2fd8a9152b56",
        "colab": {
          "base_uri": "https://localhost:8080/",
          "height": 295
        }
      },
      "execution_count": 81,
      "outputs": [
        {
          "output_type": "display_data",
          "data": {
            "image/png": "[encoded data removed]",
            "text/plain": [
              "<Figure size 432x288 with 1 Axes>"
            ]
          },
          "metadata": {
            "needs_background": "light"
          }
        }
      ]
    }
  ]
}